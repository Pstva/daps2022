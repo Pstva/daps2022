{
 "cells": [
  {
   "cell_type": "markdown",
   "id": "5c0265bc",
   "metadata": {},
   "source": [
    "# Bayesian Belief Networks \n",
    "\n",
    "based on the tutorial: https://towardsdatascience.com/bbn-bayesian-belief-networks-how-to-build-them-effectively-in-python-6b7f93435bba\n",
    "\n",
    "Data for this practice: https://www.kaggle.com/jsphyg/weather-dataset-rattle-package\n"
   ]
  },
  {
   "cell_type": "markdown",
   "id": "77d75968",
   "metadata": {},
   "source": [
    "Most of you may already be familiar with the Naive Bayes algorithm, a fast and simple modeling technique used in classification problems. While it is used widely due to its speed and relatively good performance, Naive Bayes is built on the assumption that all variables (model features) are independent, which in reality is often not true.\n",
    "\n",
    "In some cases, you may want to build **a model where you can specify which variables are dependent, independent, or conditionally independent** (this is explained in the next section). You may also want to track real-time how event probabilities change as new evidence is introduced to the model.\n",
    "\n",
    "This is where the Bayesian Belief Networks come in handy as they allow you to construct a model with nodes and directed edges by clearly outlining the relationships between variables."
   ]
  },
  {
   "cell_type": "markdown",
   "id": "f5a75c52",
   "metadata": {},
   "source": [
    "## Contents\n",
    "+ The category of algorithms Bayesian Belief Networks (BBN) belong to\n",
    "+ Introduction to Bayesian Belief Networks (BBN) and Directed Acyclic Graphs (DAG)\n",
    "+ Bayesian Belief Network Python example using real-life data\n",
    "- Directed Acyclic Graph for weather prediction\n",
    "- Data and Python library setup\n",
    "- BBN setup\n",
    "- Using BBN for predictions\n",
    "+ Conclusions\n",
    "\n",
    "\n",
    "## What category of algorithms does Bayesian Belief Networks (BBN) belong to?\n",
    "Technically there is no training happening within BBN. We simply define how different nodes in the network are linked together. Then we observe how the probabilities change after passing some evidence into specific nodes. \n",
    "\n",
    "So, we can define this networks to its own category - Probabilistic Graphical Models."
   ]
  },
  {
   "cell_type": "markdown",
   "id": "566de03e",
   "metadata": {},
   "source": [
    "## Bayesian Belief Networks (BBN) and Directed Acyclic Graphs (DAG)\n",
    "Bayesian Belief Network (BBN) is a Probabilistic Graphical Model (PGM) that represents a set of variables and their conditional dependencies via a Directed Acyclic Graph (DAG).\n",
    "\n",
    "To understand what this means, let’s draw a DAG and analyze the relationship between different nodes.\n",
    "\n",
    "<img src=\"dag.png\" width=\"400\"/>"
   ]
  },
  {
   "cell_type": "markdown",
   "id": "426c8fb1",
   "metadata": {},
   "source": [
    "Using the above, we can state the **relationship between variables (nodes)**:\n",
    "\n",
    "+ **Independence**: A and C are independent of each other. So are B and C. This is because knowing whether C has happened does not change our knowledge about A or B and vice versa.\n",
    "+ **Dependence**: B is dependent on A since A is the parent of B. This relationship can be written as a conditional probability: P(B|A). D is also dependent on other variables, and in this case, it depends on two of them — B and C. Again, this can be written as a conditional probability: P(D|B,C).\n",
    "+ **Conditional Independence**: D is considered conditionally independent of A. This is because as soon as we know whether event B has happened, A becomes irrelevant from the perspective of D. In other words, the following is true: P(D|B,A) = P(D|B)."
   ]
  },
  {
   "cell_type": "markdown",
   "id": "e4cf314c",
   "metadata": {},
   "source": [
    "## Bayesian Belief Network Python example using real-life data\n",
    "### Directed Acyclic Graph for weather prediction\n",
    "\n",
    "Let’s use Australian weather data to build a BBN. This will enable us to predict if it will rain tomorrow based on a few weather observations from today.\n",
    "\n",
    "First, let’s take a look at a DAG before we go through the details of how to build it. Note, I have displayed probabilities for all the different event combinations. You will see how we calculate these using our weather data in the following few sections."
   ]
  },
  {
   "cell_type": "markdown",
   "id": "79c9a347",
   "metadata": {},
   "source": [
    "<img src=\"weather_data.png\" width=\"1000\"/>"
   ]
  },
  {
   "cell_type": "markdown",
   "id": "c388c908",
   "metadata": {},
   "source": [
    "### Data and Python library setup\n",
    "\n",
    "We will use the following data and libraries:\n",
    "\n",
    "+ Australian weather data from Kaggle\n",
    "+ PyBBN for creating Bayesian Belief Networks\n",
    "+ Pandas for data manipulation\n",
    "+ NetworkX and Matplotlib for drawing graphs\n",
    "+ Let’s import all the libraries:"
   ]
  },
  {
   "cell_type": "code",
   "execution_count": null,
   "id": "a293050a",
   "metadata": {},
   "outputs": [],
   "source": [
    "import pandas as pd # for data manipulation \n",
    "import networkx as nx # for drawing graphs\n",
    "import matplotlib.pyplot as plt # for drawing graphs\n",
    "import numpy as np\n",
    "\n",
    "# for creating Bayesian Belief Networks (BBN)\n",
    "from pybbn.graph.dag import Bbn\n",
    "from pybbn.graph.edge import Edge, EdgeType\n",
    "from pybbn.graph.jointree import EvidenceBuilder\n",
    "from pybbn.graph.node import BbnNode\n",
    "from pybbn.graph.variable import Variable\n",
    "from pybbn.pptc.inferencecontroller import InferenceController"
   ]
  },
  {
   "cell_type": "markdown",
   "id": "f4ecb603",
   "metadata": {},
   "source": [
    "Then we get the Australian weather data from Kaggle, which you can download following this link: https://www.kaggle.com/jsphyg/weather-dataset-rattle-package.\n",
    "\n",
    "We ingest the data and derive a few new variables for usage in the model."
   ]
  },
  {
   "cell_type": "code",
   "execution_count": null,
   "id": "9c336ec8",
   "metadata": {},
   "outputs": [],
   "source": [
    "# Set Pandas options to display more columns\n",
    "pd.options.display.max_columns=50\n",
    "\n",
    "# Read in the weather data csv\n",
    "df=pd.read_csv('weatherAUS.csv', encoding='utf-8')"
   ]
  },
  {
   "cell_type": "code",
   "execution_count": null,
   "id": "7cd78631",
   "metadata": {},
   "outputs": [],
   "source": [
    "df.columns"
   ]
  },
  {
   "cell_type": "code",
   "execution_count": null,
   "id": "10724b56",
   "metadata": {},
   "outputs": [],
   "source": [
    "np.sum(pd.isnull(df['RainTomorrow'])==True)"
   ]
  },
  {
   "cell_type": "code",
   "execution_count": null,
   "id": "a6d72e38",
   "metadata": {},
   "outputs": [],
   "source": [
    "# Drop records where target RainTomorrow=NaN\n",
    "df=df[pd.isnull(df['RainTomorrow'])==False]"
   ]
  },
  {
   "cell_type": "code",
   "execution_count": null,
   "id": "b3e94a1f",
   "metadata": {},
   "outputs": [],
   "source": [
    "# selecting the necessary columns\n",
    "\n",
    "df = df[['RainTomorrow', 'WindGustSpeed', 'Humidity9am', 'Humidity3pm']]"
   ]
  },
  {
   "cell_type": "code",
   "execution_count": null,
   "id": "d5f1b771",
   "metadata": {},
   "outputs": [],
   "source": [
    "np.sum(pd.isnull(df)==True)"
   ]
  },
  {
   "cell_type": "code",
   "execution_count": null,
   "id": "c2000d62",
   "metadata": {},
   "outputs": [],
   "source": [
    "# For other columns with missing values, fill them in with column mean\n",
    "df=df.fillna(df.mean())"
   ]
  },
  {
   "cell_type": "code",
   "execution_count": null,
   "id": "969e1d4e",
   "metadata": {},
   "outputs": [],
   "source": [
    "\n",
    "# Create bands for variables that we want to use in the model\n",
    "df['WindGustSpeedCat']=df['WindGustSpeed'].apply(lambda x: '0.<=40'   if x<=40 else\n",
    "                                                            '1.40-50' if 40<x<=50 else '2.>50')\n",
    "df['Humidity9amCat']=df['Humidity9am'].apply(lambda x: '1.>60' if x>60 else '0.<=60')\n",
    "df['Humidity3pmCat']=df['Humidity3pm'].apply(lambda x: '1.>60' if x>60 else '0.<=60')\n",
    "\n",
    "# Show a snaphsot of data\n",
    "df"
   ]
  },
  {
   "cell_type": "markdown",
   "id": "e37edd97",
   "metadata": {},
   "source": [
    "### Setting up Bayesian Belief Network\n",
    "Now that we have all the libraries and data ready, it is time to set up a BBN. The first stage requires us to define nodes."
   ]
  },
  {
   "cell_type": "code",
   "execution_count": null,
   "id": "790ed3b6",
   "metadata": {},
   "outputs": [],
   "source": [
    "# Create nodes by manually typing in probabilities\n",
    "H9am = BbnNode(Variable(0, 'H9am', ['<=60', '>60']), [0.30658, 0.69342])\n",
    "H3pm = BbnNode(Variable(1, 'H3pm', ['<=60', '>60']), [0.92827, 0.07173, \n",
    "                                                      0.55760, 0.44240])\n",
    "W = BbnNode(Variable(2, 'W', ['<=40', '40-50', '>50']), [0.58660, 0.24040, 0.17300])\n",
    "RT = BbnNode(Variable(3, 'RT', ['No', 'Yes']), [0.92314, 0.07686, \n",
    "                                                0.89072, 0.10928, \n",
    "                                                0.76008, 0.23992, \n",
    "                                                0.64250, 0.35750, \n",
    "                                                0.49168, 0.50832, \n",
    "                                                0.32182, 0.67818])"
   ]
  },
  {
   "cell_type": "markdown",
   "id": "42bb1bd6",
   "metadata": {},
   "source": [
    "A few things to note:\n",
    "\n",
    "+ Probabilities here are normalized frequencies of the variable categories from the data. E.g., the “H9am” variable has 43,594 observations where the value is ≤60 and 98,599 observations where the value is >60.\n"
   ]
  },
  {
   "cell_type": "markdown",
   "id": "b2d9782e",
   "metadata": {},
   "source": [
    "+ While I have used normalized frequencies (probabilities), it also works if you put actual frequencies instead. In that case, your code would look like this: \n",
    "\n",
    "```\n",
    "H9am = BbnNode(Variable(0, 'H9am',['<=60', '>60']), [43594, 98599]) .\n",
    "```\n",
    "\n",
    "+ For child nodes, like “Humidity3pmCat”, which has a parent “Humidity9amCat”, we need to provide probabilities (or frequencies) for each combination as shown in the DAG (note each row adds up to 1):\n",
    "\n",
    "<img src=\"table_prob1.png\" width=\"500\"/>"
   ]
  },
  {
   "cell_type": "markdown",
   "id": "70785534",
   "metadata": {},
   "source": [
    "+ You can do this by calculating probabilities/frequencies of “H3pm” twice — the first time by taking a subset of data where “H9am”≤60 and the second time by taking a subset of data where “H9am”>60.\n",
    "+ Since calculating frequencies one at a time is time-consuming, I have written a short function that gives us what we need.\n"
   ]
  },
  {
   "cell_type": "code",
   "execution_count": null,
   "id": "e40e9c9f",
   "metadata": {},
   "outputs": [],
   "source": [
    "# This function helps to calculate probability distribution, which goes into BBN (note, can handle up to 2 parents)\n",
    "def probs(data, child, parent1=None, parent2=None):\n",
    "    if parent1==None:\n",
    "        # Calculate probabilities\n",
    "        prob=pd.crosstab(data[child], 'Empty', margins=False, normalize='columns').sort_index().to_numpy().reshape(-1).tolist()\n",
    "    elif parent1!=None:\n",
    "            # Check if child node has 1 parent or 2 parents\n",
    "            if parent2==None:\n",
    "                # Caclucate probabilities\n",
    "                prob=pd.crosstab(data[parent1],data[child], margins=False, normalize='index').sort_index().to_numpy().reshape(-1).tolist()\n",
    "            else:    \n",
    "                # Caclucate probabilities\n",
    "                prob=pd.crosstab([data[parent1],data[parent2]],data[child], margins=False, normalize='index').sort_index().to_numpy().reshape(-1).tolist()\n",
    "    else: print(\"Error in Probability Frequency Calculations\")\n",
    "    return prob"
   ]
  },
  {
   "cell_type": "markdown",
   "id": "3526aa3a",
   "metadata": {},
   "source": [
    "So, instead of manually typing in all the probabilities, let’s use the above function. At the same time, we will create an actual network:\n",
    "\n"
   ]
  },
  {
   "cell_type": "code",
   "execution_count": null,
   "id": "36e2cd20",
   "metadata": {},
   "outputs": [],
   "source": [
    "# Create nodes by using our earlier function to automatically calculate probabilities\n",
    "H9am = BbnNode(Variable(0, 'H9am', ['<=60', '>60']), probs(df, child='Humidity9amCat'))\n",
    "H3pm = BbnNode(Variable(1, 'H3pm', ['<=60', '>60']), probs(df, child='Humidity3pmCat', parent1='Humidity9amCat'))\n",
    "W = BbnNode(Variable(2, 'W', ['<=40', '40-50', '>50']), probs(df, child='WindGustSpeedCat'))\n",
    "RT = BbnNode(Variable(3, 'RT', ['No', 'Yes']), probs(df, child='RainTomorrow', parent1='Humidity3pmCat', parent2='WindGustSpeedCat'))\n",
    "\n",
    "# Create Network\n",
    "bbn = Bbn() \\\n",
    "    .add_node(H9am) \\\n",
    "    .add_node(H3pm) \\\n",
    "    .add_node(W) \\\n",
    "    .add_node(RT) \\\n",
    "    .add_edge(Edge(H9am, H3pm, EdgeType.DIRECTED)) \\\n",
    "    .add_edge(Edge(H3pm, RT, EdgeType.DIRECTED)) \\\n",
    "    .add_edge(Edge(W, RT, EdgeType.DIRECTED))\n",
    "\n",
    "# Convert the BBN to a join tree\n",
    "join_tree = InferenceController.apply(bbn)"
   ]
  },
  {
   "cell_type": "markdown",
   "id": "77c2bfb3",
   "metadata": {},
   "source": [
    "Note: if you are working with a small data sample, there is a risk of some event combinations not being present. In such scenario, you would get a “list index out of range” error. A solution could be to expand your data to include all possibe event combinations, or to identify missing combinations and add them in.\n",
    "\n",
    "Now, we want to draw the graph to check that we have set it up as intended:"
   ]
  },
  {
   "cell_type": "code",
   "execution_count": null,
   "id": "c8c58d83",
   "metadata": {},
   "outputs": [],
   "source": [
    "# Set node positions\n",
    "pos = {0: (-1, 2), 1: (-1, 0.5), 2: (1, 0.5), 3: (0, -1)}\n",
    "\n",
    "# Set options for graph looks\n",
    "options = {\n",
    "    \"font_size\": 16,\n",
    "    \"node_size\": 4000,\n",
    "    \"node_color\": \"white\",\n",
    "    \"edgecolors\": \"black\",\n",
    "    \"edge_color\": \"red\",\n",
    "    \"linewidths\": 5,\n",
    "    \"width\": 5,}\n",
    "    \n",
    "# Generate graph\n",
    "n, d = bbn.to_nx_graph()\n",
    "nx.draw(n, with_labels=True, labels=d, pos=pos, **options)\n",
    "\n",
    "# Update margins and print the graph\n",
    "ax = plt.gca()\n",
    "ax.margins(0.10)\n",
    "plt.axis(\"off\")\n",
    "plt.show()"
   ]
  },
  {
   "cell_type": "markdown",
   "id": "d582d854",
   "metadata": {},
   "source": [
    "### Using BBN for predictions\n",
    "With our model being ready, we can use it to predict whether it will rain tomorrow.\n",
    "\n",
    "First, let’s plot probabilities for each node without passing any additional information to the graph. Note, I have set up a simple function so we don’t have to retype the same code later on, as we will want to regenerate the results multiple times."
   ]
  },
  {
   "cell_type": "code",
   "execution_count": null,
   "id": "65723aaa",
   "metadata": {},
   "outputs": [],
   "source": [
    "# Define a function for printing marginal probabilities\n",
    "def print_probs():\n",
    "    for node in join_tree.get_bbn_nodes():\n",
    "        potential = join_tree.get_bbn_potential(node)\n",
    "        print(\"Node:\", node)\n",
    "        print(\"Values:\")\n",
    "        print(potential)\n",
    "        print('----------------')\n",
    "        \n",
    "# Use the above function to print marginal probabilities\n",
    "print_probs()"
   ]
  },
  {
   "cell_type": "markdown",
   "id": "263ba9a1",
   "metadata": {},
   "source": [
    "As you can see, this gives us the likelihood of each event occurring with a “Rain Tomorrow (RT)” probability of 22%. While this is cool, we could have got the same 22% probability by looking at the frequency of the “RainTomorrow” variable in our original dataset.\n",
    "\n",
    "Said that the following step is where we get a lot of value out of our BBN. We can pass evidence into BBN and see how that affects probabilities for every node in the network.\n",
    "\n",
    "Let’s say it is 9 am right now, and we have measured the humidity outside. It says 72, which obviously belongs to the “>60” band. Hence, let’s pass this evidence into the BBN and see what happens. Note, I have created another small function to help us with that."
   ]
  },
  {
   "cell_type": "code",
   "execution_count": null,
   "id": "887d16a3",
   "metadata": {},
   "outputs": [],
   "source": [
    "# To add evidence of events that happened so probability distribution can be recalculated\n",
    "def evidence(ev, nod, cat, val):\n",
    "    ev = EvidenceBuilder() \\\n",
    "    .with_node(join_tree.get_bbn_node_by_name(nod)) \\\n",
    "    .with_evidence(cat, val) \\\n",
    "    .build()\n",
    "    join_tree.set_observation(ev)\n",
    "    \n",
    "# Use above function to add evidence\n",
    "evidence('ev1', 'H9am', '>60', 1.0)\n",
    "\n",
    "# Print marginal probabilities\n",
    "print_probs()"
   ]
  },
  {
   "cell_type": "markdown",
   "id": "b4419eca",
   "metadata": {},
   "source": [
    "As you can see, “Humidity9am>60” is now equal to 100%, and the likelihood of “Humidity3pm>60” has increased from 32.8% to 44.2%. At the same time, the chance of “RainTomorrow” has gone up to 26.1%.\n",
    "\n",
    "Also, note how probabilities for “WindGustSpeed” did not change since “W” and “H9am” are independent of each other.\n",
    "\n",
    "You can run the same evidence code one more time to remove the evidence from the network. After that, let’s pass two pieces of evidence for “H3pm” and “W.”\n",
    "\n"
   ]
  },
  {
   "cell_type": "code",
   "execution_count": null,
   "id": "2ee50094",
   "metadata": {},
   "outputs": [],
   "source": [
    "# Add more evidence\n",
    "evidence('ev1', 'H3pm', '>60', 1.0)\n",
    "evidence('ev2', 'W', '>50', 1.0)\n",
    "# Print marginal probabilities\n",
    "print_probs()"
   ]
  },
  {
   "cell_type": "markdown",
   "id": "7a2f711b",
   "metadata": {},
   "source": [
    "Unsurprisingly, this tells us that the chance of rain tomorrow has gone up to 67.8%. Note how “H9am” probabilities also changed, which tells us that despite us only measuring humidity at 3 pm, we are 93% certain that humidity was also above 60 at 9 am this morning."
   ]
  },
  {
   "cell_type": "markdown",
   "id": "b7721167",
   "metadata": {},
   "source": [
    "## Task for you:\n",
    "\n",
    "Deadline: 18.10.2022 12:00, send me to my e-mail aspestova@hse.ru in **html** format\n",
    "\n",
    "\n",
    "1. Build similar Bayesian model for predicting the target variable RainTomorrow with adding new variables. Add at least one independent variable and one dependent variable (so, like H9am and H3pm variables in our case).\n",
    "\n",
    "2. Explore the model a little bit. Define some events and look how it effects the probability predictions of the target variable."
   ]
  }
 ],
 "metadata": {
  "kernelspec": {
   "display_name": "Python 3 (ipykernel)",
   "language": "python",
   "name": "python3"
  },
  "language_info": {
   "codemirror_mode": {
    "name": "ipython",
    "version": 3
   },
   "file_extension": ".py",
   "mimetype": "text/x-python",
   "name": "python",
   "nbconvert_exporter": "python",
   "pygments_lexer": "ipython3",
   "version": "3.9.13"
  }
 },
 "nbformat": 4,
 "nbformat_minor": 5
}
