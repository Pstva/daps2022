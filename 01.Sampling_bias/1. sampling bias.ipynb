{
 "cells": [
  {
   "cell_type": "markdown",
   "id": "8dcd7827",
   "metadata": {},
   "source": [
    "# Practice 1. Sampling bias. Weighting sample. Resampling. Bootstrapping.\n"
   ]
  },
  {
   "cell_type": "code",
   "execution_count": null,
   "id": "6649a3bf",
   "metadata": {},
   "outputs": [],
   "source": [
    "import pandas as pd\n",
    "#!pip install pyreadstat"
   ]
  },
  {
   "cell_type": "markdown",
   "id": "f0fd8649",
   "metadata": {},
   "source": [
    "## Data Preparation\n",
    "\n",
    "We will work with The TIMSS 2019 International Database, with the questionnaire for 8th graders about mathematics.\n",
    "https://timss2019.org/international-database/\n",
    "\n",
    "Codebook: https://timss2019.org/international-database/downloads/T19_UG_Supp1-international-context-questionnaires.pdf (from page 183)\n",
    "\n",
    "\n",
    "\n",
    "+ BSMMAT01 - maths score (Mathematics Achievement, points scored by the student for tasks in mathematics)\n",
    "\n",
    "Variables from the student questionnaire:\n",
    "\n",
    "some control variables:\n",
    "+ BSBG01 - sex, boy\\girl \n",
    "+ BSDGEDUP - Highest education of the parents\n",
    "\n",
    "quiestions about maths and maths classes:\n",
    "+ BSBM16A-I - interest in maths (from love to maths to not interested at all)\n",
    "+ BSBM17A-G - Teaching assessment (teacher’s explanations are clear and interesting things learned and he/she help to not clear, no help, not interesting)\n",
    "+ BSBM19A-I - success in maths (a, d, f, g from success to not success, b, c, e, h, i vice versa)\n",
    "+ BSBM20A-I - attitude to maths, its importance for life (from important to not important at all)\n"
   ]
  },
  {
   "cell_type": "code",
   "execution_count": null,
   "id": "0f6742d5",
   "metadata": {},
   "outputs": [],
   "source": [
    "# reading the data\n",
    "\n",
    "data = pd.read_spss(\"timss_data.sav\")\n",
    "data.head()"
   ]
  },
  {
   "cell_type": "code",
   "execution_count": null,
   "id": "d6678056",
   "metadata": {},
   "outputs": [],
   "source": [
    "# selecting columns we need\n",
    "\n",
    "import string\n",
    "\n",
    "BSBM16_vars = ['BSBM16' + x for x in string.ascii_uppercase[:9]]\n",
    "BSBM17_vars = ['BSBM17' + x for x in string.ascii_uppercase[:7]]\n",
    "BSBM19_vars = ['BSBM19' + x for x in string.ascii_uppercase[:9]]\n",
    "BSBM20_vars = ['BSBM20' + x for x in string.ascii_uppercase[:9]]\n",
    "\n",
    "cols = ['BSMMAT01', 'BSBG01', 'BSDGEDUP'] + BSBM16_vars + BSBM17_vars + BSBM19_vars + BSBM20_vars\n",
    "\n",
    "data = data[cols]"
   ]
  },
  {
   "cell_type": "code",
   "execution_count": null,
   "id": "da86511b",
   "metadata": {},
   "outputs": [],
   "source": [
    "data.head()"
   ]
  },
  {
   "cell_type": "markdown",
   "id": "278428f6",
   "metadata": {},
   "source": [
    "**recoding variables**\n",
    "\n",
    "let's recode them in a way that we have variables from not interst/not understand/success (1) to interst/understand/success (4)\n"
   ]
  },
  {
   "cell_type": "code",
   "execution_count": null,
   "id": "ece11101",
   "metadata": {},
   "outputs": [],
   "source": [
    "data[BSBM16_vars] = data[BSBM16_vars].replace({'Agree a lot': 4, 'Agree a little': 3, 'Disagree a little': 2, 'Disagree a lot': 1})\n",
    "data[BSBM17_vars] = data[BSBM17_vars].replace({'Agree a lot': 4, 'Agree a little': 3, 'Disagree a little': 2, 'Disagree a lot': 1})\n",
    "data[BSBM20_vars] = data[BSBM20_vars].replace({'Agree a lot': 4, 'Agree a little': 3, 'Disagree a little': 2, 'Disagree a lot': 1})"
   ]
  },
  {
   "cell_type": "code",
   "execution_count": null,
   "id": "1222df45",
   "metadata": {},
   "outputs": [],
   "source": [
    "# BSBM19A-I - success in maths (a, d, f, g from success to not success, b, c, e, h, i vice versa)\n",
    "BSBM19_vars\n",
    "\n",
    "data[[\"BSBM19A\", \"BSBM19D\", \"BSBM19F\", \"BSBM19G\"]] = data[[\"BSBM19A\", \"BSBM19D\", \"BSBM19F\", \"BSBM19G\"]].replace(\n",
    "    {'Agree a lot': 4, 'Agree a little': 3, 'Disagree a little': 2, 'Disagree a lot': 1})\n",
    "data[[\"BSBM19B\", \"BSBM19C\", \"BSBM19E\", \"BSBM19H\", \"BSBM19I\"]] = data[\n",
    "    [\"BSBM19B\", \"BSBM19C\", \"BSBM19E\", \"BSBM19H\", \"BSBM19I\"]].replace(\n",
    "    {'Agree a lot': 1, 'Agree a little': 2, 'Disagree a little': 3, 'Disagree a lot': 4})"
   ]
  },
  {
   "cell_type": "code",
   "execution_count": null,
   "id": "411a9855",
   "metadata": {},
   "outputs": [],
   "source": [
    "# coverting to numeric\n",
    "data[BSBM16_vars + BSBM17_vars + BSBM19_vars + BSBM20_vars] = data[\n",
    "    BSBM16_vars + BSBM17_vars + BSBM19_vars + BSBM20_vars].astype(float)"
   ]
  },
  {
   "cell_type": "code",
   "execution_count": null,
   "id": "e4ef41b2",
   "metadata": {},
   "outputs": [],
   "source": [
    "data.head()"
   ]
  },
  {
   "cell_type": "code",
   "execution_count": null,
   "id": "8e1fd4ab",
   "metadata": {},
   "outputs": [],
   "source": [
    "# omit all NAs for simplicity\n",
    "data = data.dropna()"
   ]
  },
  {
   "cell_type": "code",
   "execution_count": null,
   "id": "5b781d60",
   "metadata": {},
   "outputs": [],
   "source": [
    "# now let's calculate average value for each category of variables\n",
    "\n",
    "data['interest'] = data[BSBM16_vars].mean(axis=1)\n",
    "data['teaching'] = data[BSBM17_vars].mean(axis=1).copy()\n",
    "data['success'] = data[BSBM19_vars].mean(axis=1).copy()\n",
    "data['importance'] = data[BSBM20_vars].mean(axis=1).copy()"
   ]
  },
  {
   "cell_type": "code",
   "execution_count": null,
   "id": "8ce1bce0",
   "metadata": {},
   "outputs": [],
   "source": [
    "# prepare target and control variables\n",
    "\n",
    "data = data.rename(columns={\"BSBG01\": \"sex\", \"BSDGEDUP\": \"education\", \"BSMMAT01\": \"math_score\"})\n",
    "data['math_score'] = data['math_score'].astype(float)\n",
    "\n",
    "data['sex'] = data['sex'].replace({\"Boy\": 0, \"Girl\": 1}).astype(int)"
   ]
  },
  {
   "cell_type": "code",
   "execution_count": null,
   "id": "4903926d",
   "metadata": {},
   "outputs": [],
   "source": [
    "data['education'].value_counts()"
   ]
  },
  {
   "cell_type": "code",
   "execution_count": null,
   "id": "06496d1d",
   "metadata": {},
   "outputs": [],
   "source": [
    "# let's remain 4 categories - secondary (or lower), post-secondary, university and don't know\n",
    "\n",
    "data['education'] = data['education'].replace({'Some Primary, Lower Secondary or No School' : 'Secondary or lower',\n",
    "                                               'Lower Secondary' : 'Secondary or lower', \n",
    "                                               'Upper Secondary' : 'Secondary or lower',\n",
    "                                               'Post-secondary but not University' : 'Post-Secondary'})"
   ]
  },
  {
   "cell_type": "code",
   "execution_count": null,
   "id": "051b9028",
   "metadata": {},
   "outputs": [],
   "source": [
    "data['education'].value_counts()"
   ]
  },
  {
   "cell_type": "markdown",
   "id": "2c6ddc24",
   "metadata": {},
   "source": [
    "## Bias data"
   ]
  },
  {
   "cell_type": "code",
   "execution_count": null,
   "id": "843b2764",
   "metadata": {},
   "outputs": [],
   "source": [
    "data = data.sample(frac=1., random_state=10)"
   ]
  },
  {
   "cell_type": "code",
   "execution_count": null,
   "id": "c3c3aa5c",
   "metadata": {},
   "outputs": [],
   "source": [
    "data['sex'].value_counts()"
   ]
  },
  {
   "cell_type": "code",
   "execution_count": null,
   "id": "2e2f20bc",
   "metadata": {},
   "outputs": [],
   "source": [
    "# let's randomly drop rows and make bias by sex in our data\n",
    "import numpy as np\n",
    "\n",
    "np.random.seed(110)\n",
    "drop_indices = np.random.choice(data[data['sex'] == 1].index, 1000, replace=False)\n",
    "data_sex_biased = data.drop(drop_indices)"
   ]
  },
  {
   "cell_type": "code",
   "execution_count": null,
   "id": "d5795354",
   "metadata": {},
   "outputs": [],
   "source": [
    "data_sex_biased['sex'].value_counts()"
   ]
  },
  {
   "cell_type": "markdown",
   "id": "7f10e73b",
   "metadata": {},
   "source": [
    "## Testing hypotheses\n",
    "\n",
    "\n",
    "1. There is no differences in math score between girls and boys."
   ]
  },
  {
   "cell_type": "code",
   "execution_count": null,
   "id": "3d890498",
   "metadata": {},
   "outputs": [],
   "source": [
    "from scipy import stats"
   ]
  },
  {
   "cell_type": "code",
   "execution_count": null,
   "id": "9fe53ab5",
   "metadata": {},
   "outputs": [],
   "source": [
    "# Welch t-test (unknown variances, we know anything about their equality)\n",
    "res_biased = stats.ttest_ind(data_sex_biased[data_sex_biased['sex'] == 0]['math_score'], \n",
    "                             data_sex_biased[data_sex_biased['sex'] == 1]['math_score'], \n",
    "                             equal_var=False)\n",
    "print(res_biased)"
   ]
  },
  {
   "cell_type": "code",
   "execution_count": null,
   "id": "6db9f777",
   "metadata": {},
   "outputs": [],
   "source": [
    "data_sex_biased.groupby(by=['sex']).mean()['math_score']"
   ]
  },
  {
   "cell_type": "code",
   "execution_count": null,
   "id": "3ce892fd",
   "metadata": {},
   "outputs": [],
   "source": [
    "res_no_bias = stats.ttest_ind(data[data['sex'] == 0]['math_score'], \n",
    "                              data[data['sex'] == 1]['math_score'], \n",
    "                              equal_var=False)\n",
    "print(res_no_bias)"
   ]
  },
  {
   "cell_type": "code",
   "execution_count": null,
   "id": "0752af25",
   "metadata": {},
   "outputs": [],
   "source": [
    "data.groupby(by=['sex']).mean()['math_score']"
   ]
  },
  {
   "cell_type": "markdown",
   "id": "e1b3becf",
   "metadata": {},
   "source": [
    "## Weighting\n",
    "\n",
    "a kind of Post-stratification weighting"
   ]
  },
  {
   "cell_type": "code",
   "execution_count": null,
   "id": "32ee311f",
   "metadata": {},
   "outputs": [],
   "source": [
    "boys_weight = 0.5/((len(data_sex_biased[data_sex_biased['sex'] == 0])/len(data_sex_biased)))\n",
    "girls_weight = 0.5/((len(data_sex_biased[data_sex_biased['sex'] == 1])/len(data_sex_biased)))"
   ]
  },
  {
   "cell_type": "code",
   "execution_count": null,
   "id": "77228775",
   "metadata": {},
   "outputs": [],
   "source": [
    "from statsmodels.stats import weightstats\n",
    "\n",
    "weightstats.ttest_ind(data_sex_biased[data_sex_biased['sex'] == 0]['math_score'], \n",
    "                             data_sex_biased[data_sex_biased['sex'] == 1]['math_score'], \n",
    "                             usevar='unequal', weights=([boys_weight]*(len(data_sex_biased[data_sex_biased['sex'] == 0])), [girls_weight]*(len(data_sex_biased[data_sex_biased['sex'] == 1]))))"
   ]
  },
  {
   "cell_type": "code",
   "execution_count": null,
   "id": "dae2ff84",
   "metadata": {},
   "outputs": [],
   "source": [
    "data_sex_biased['weights'] = data_sex_biased['sex'].apply(lambda x: boys_weight if x == 0 else girls_weight)"
   ]
  },
  {
   "cell_type": "code",
   "execution_count": null,
   "id": "30b64281",
   "metadata": {},
   "outputs": [],
   "source": [
    "# or we can just sample with weights and then perform tests\n",
    "\n",
    "data_weighted = data_sex_biased.sample(n=len(data_sex_biased), replace=True, weights=\"weights\")"
   ]
  },
  {
   "cell_type": "code",
   "execution_count": null,
   "id": "f5a81de4",
   "metadata": {},
   "outputs": [],
   "source": [
    "stats.ttest_ind(data_weighted[data_weighted['sex'] == 0]['math_score'], \n",
    "                              data_weighted[data_weighted['sex'] == 1]['math_score'], \n",
    "                              equal_var=False)"
   ]
  },
  {
   "cell_type": "markdown",
   "id": "e5441ba9",
   "metadata": {},
   "source": [
    "other functions in the weightstats: https://www.statsmodels.org/dev/_modules/statsmodels/stats/weightstats.html"
   ]
  },
  {
   "cell_type": "markdown",
   "id": "56ef7e34",
   "metadata": {},
   "source": [
    "## Bootstrapping\n",
    "\n",
    "bootstrapping is a resampling technique that involves **repeatedly drawing samples** from our source data **with replacement**, often to estimate a population parameter.\n",
    "\n",
    "Algorithm:\n",
    "\n",
    "1. Draw a sample of size N from the original dataset with replacement. This is a bootstrap sample.\n",
    "2. Repeat step 1 S times, so that we have S bootstrap samples.\n",
    "3. Estimate our value on each of the bootstrap samples, so that we have S estimates\n",
    "4. Use the distribution of estimates for inference (for example, estimating the confidence intervals)."
   ]
  },
  {
   "cell_type": "markdown",
   "id": "412603df",
   "metadata": {},
   "source": [
    "with *stats.bootstrap* function we can build confidence intervals for some statistics"
   ]
  },
  {
   "cell_type": "code",
   "execution_count": null,
   "id": "08591a25",
   "metadata": {},
   "outputs": [],
   "source": [
    "res = stats.bootstrap((data[data['sex'] == 0]['math_score']-data[data['sex'] == 1]['math_score'],), np.mean, confidence_level=0.95,\n",
    "                random_state=10)\n",
    "print(res.confidence_interval)"
   ]
  },
  {
   "cell_type": "markdown",
   "id": "e268dc81",
   "metadata": {},
   "source": [
    "bootstrapping for testing mean difference"
   ]
  },
  {
   "cell_type": "code",
   "execution_count": null,
   "id": "dfb729ca",
   "metadata": {},
   "outputs": [],
   "source": [
    "n_resamples = 3000\n",
    "sample_size = len(data)\n",
    "\n",
    "diff_distr = []\n",
    "\n",
    "for i in range(n_resamples):\n",
    "    sample_index = np.random.choice(len(data), sample_size)\n",
    "    mean_diff = int(data.iloc[sample_index, ][data['sex']==0]['math_score'].mean()) - int(data.iloc[sample_index, ][data['sex']==1]['math_score'].mean())\n",
    "    diff_distr.append(mean_diff)"
   ]
  },
  {
   "cell_type": "code",
   "execution_count": null,
   "id": "2d7530d8",
   "metadata": {},
   "outputs": [],
   "source": [
    "pd.Series(diff_distr).hist()"
   ]
  },
  {
   "cell_type": "code",
   "execution_count": null,
   "id": "fea42f36",
   "metadata": {},
   "outputs": [],
   "source": [
    "# confidence interval\n",
    "left = np.percentile(diff_distr, 0.05/2*100)\n",
    "right = np.percentile(diff_distr, 100-0.05/2*100)\n",
    "(left, right)"
   ]
  },
  {
   "cell_type": "markdown",
   "id": "14716e74",
   "metadata": {},
   "source": [
    "## Task for you (Deadline: 13.09.2022 09:00)\n",
    "Send me on email aspestova@hse.ru with the topic \"HW[number] [Your name]\"\n",
    "\n",
    "1. Come up with some hypothesis on the relation between parents' highest education and math achievements\n",
    "2. Test this hypothesis using suitable statistical test on biased and non-biased data. Are there any differences in the results? Describe them.\n",
    "3. Try to reweight biased sample or run the test again. What have changed? (Consider the proportions of different education categories in the data as the proportions for general population)\n",
    "4. Using bootrstrap estimate confidence intervals of tagret variable for each education category you analyze. (on original and biased sample)\n",
    "5. Using Jackknife algorithm estimate confidence intervals -//-. (on original and biased sample)\n",
    "\n",
    "! You can construct more complicated hypotheses and perform other tests, feel free to use other variables in the data.\n",
    "\n",
    "\n",
    "**Reminder: Jackknife algorithm **\n",
    "\n",
    "The name refers to cutting the data\n",
    "\n",
    "Steps:\n",
    "+ Remove a single observation, \n",
    "+ Calculate the statistic without that one value, \n",
    "+ Repeat that process for each observation (remove just one value, calculate the statistic). \n",
    "+ The estimation of a parameter derived from this smaller sample is called partial estimate. A pseudo-value is then computed as the difference between the whole sample estimate and the partial estimate."
   ]
  },
  {
   "cell_type": "code",
   "execution_count": null,
   "id": "fada20fd",
   "metadata": {},
   "outputs": [],
   "source": [
    "data_task = data['education']\n",
    "\n",
    "\n",
    "np.random.seed(110)\n",
    "drop_indices1 = np.random.choice(data[data['education'] == 'Post-Secondary'].index, 300, replace=False)\n",
    "drop_indices2 = np.random.choice(data[data['education'] == 'Secondary or lower'].index, 100, replace=False)\n",
    "data_ed_biased = data.drop(drop_indices1)\n",
    "data_ed_biased = data.drop(drop_indices2)"
   ]
  },
  {
   "cell_type": "code",
   "execution_count": null,
   "id": "d8104e61",
   "metadata": {},
   "outputs": [],
   "source": [
    "# biased data\n",
    "data_ed_biased.head()"
   ]
  },
  {
   "cell_type": "code",
   "execution_count": null,
   "id": "3c8a4e0a",
   "metadata": {},
   "outputs": [],
   "source": []
  }
 ],
 "metadata": {
  "kernelspec": {
   "display_name": "Python 3 (ipykernel)",
   "language": "python",
   "name": "python3"
  },
  "language_info": {
   "codemirror_mode": {
    "name": "ipython",
    "version": 3
   },
   "file_extension": ".py",
   "mimetype": "text/x-python",
   "name": "python",
   "nbconvert_exporter": "python",
   "pygments_lexer": "ipython3",
   "version": "3.9.12"
  }
 },
 "nbformat": 4,
 "nbformat_minor": 5
}
