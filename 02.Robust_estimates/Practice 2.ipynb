{
 "cells": [
  {
   "cell_type": "code",
   "execution_count": null,
   "id": "af6ed3e7",
   "metadata": {},
   "outputs": [],
   "source": [
    "#About Jacknife:\n",
    "\n",
    "#ImportError: cannot import name 'bootstrap' from 'scipy.stats\n",
    "#pip install -U scipy"
   ]
  },
  {
   "cell_type": "markdown",
   "id": "6dbf056a",
   "metadata": {},
   "source": [
    "# Practice 2. Sample size. Robust regressions."
   ]
  },
  {
   "cell_type": "markdown",
   "id": "3ebe3bba",
   "metadata": {},
   "source": [
    "## Data\n",
    "\n",
    "Again, the TIMSS 2019 data. We will use the data for United Arab Emirates.\n",
    "Data is already prepared as file **timss_all_data.csv** (preparation is the same as in the previous practice)\n",
    "\n",
    "\n",
    "Columns:\n",
    "\n",
    "+ math score - maths score (Mathematics Achievement, points scored by the student for tasks in mathematics)\n",
    "+ sex - boy\\girl (0\\1)\n",
    "+ education - Highest education of the parents\n",
    "+ interest - interest in maths (from not interested at all to love to maths )\n",
    "+ teaching - Teaching assessment (from he/she help to not clear, no help, not interesting to teacher’s explanations are clear and interesting things learned)\n",
    "+ success - success in maths (from no success to success)\n",
    "+ importance - attitude to maths, its importance for life (from not important at all to very important)"
   ]
  },
  {
   "cell_type": "code",
   "execution_count": 4,
   "id": "697fd607",
   "metadata": {},
   "outputs": [],
   "source": [
    "import pandas as pd\n",
    "import numpy as np\n",
    "data = pd.read_csv('timss_uae.csv')"
   ]
  },
  {
   "cell_type": "code",
   "execution_count": 5,
   "id": "4a11434f",
   "metadata": {},
   "outputs": [],
   "source": [
    "data = data[['math_score', 'sex', 'education', 'interest', 'teaching', 'success', 'importance']]"
   ]
  },
  {
   "cell_type": "code",
   "execution_count": 6,
   "id": "64c1ca20",
   "metadata": {},
   "outputs": [
    {
     "data": {
      "text/html": [
       "<div>\n",
       "<style scoped>\n",
       "    .dataframe tbody tr th:only-of-type {\n",
       "        vertical-align: middle;\n",
       "    }\n",
       "\n",
       "    .dataframe tbody tr th {\n",
       "        vertical-align: top;\n",
       "    }\n",
       "\n",
       "    .dataframe thead th {\n",
       "        text-align: right;\n",
       "    }\n",
       "</style>\n",
       "<table border=\"1\" class=\"dataframe\">\n",
       "  <thead>\n",
       "    <tr style=\"text-align: right;\">\n",
       "      <th></th>\n",
       "      <th>math_score</th>\n",
       "      <th>sex</th>\n",
       "      <th>education</th>\n",
       "      <th>interest</th>\n",
       "      <th>teaching</th>\n",
       "      <th>success</th>\n",
       "      <th>importance</th>\n",
       "    </tr>\n",
       "  </thead>\n",
       "  <tbody>\n",
       "    <tr>\n",
       "      <th>0</th>\n",
       "      <td>536.92562</td>\n",
       "      <td>0</td>\n",
       "      <td>University or Higher</td>\n",
       "      <td>3.666667</td>\n",
       "      <td>3.571429</td>\n",
       "      <td>2.888889</td>\n",
       "      <td>3.555556</td>\n",
       "    </tr>\n",
       "    <tr>\n",
       "      <th>1</th>\n",
       "      <td>378.99368</td>\n",
       "      <td>0</td>\n",
       "      <td>Post-Secondary</td>\n",
       "      <td>3.555556</td>\n",
       "      <td>3.571429</td>\n",
       "      <td>2.888889</td>\n",
       "      <td>3.555556</td>\n",
       "    </tr>\n",
       "    <tr>\n",
       "      <th>2</th>\n",
       "      <td>509.67676</td>\n",
       "      <td>0</td>\n",
       "      <td>Post-Secondary</td>\n",
       "      <td>3.333333</td>\n",
       "      <td>3.285714</td>\n",
       "      <td>2.777778</td>\n",
       "      <td>3.555556</td>\n",
       "    </tr>\n",
       "    <tr>\n",
       "      <th>3</th>\n",
       "      <td>357.27753</td>\n",
       "      <td>0</td>\n",
       "      <td>Post-Secondary</td>\n",
       "      <td>3.222222</td>\n",
       "      <td>3.571429</td>\n",
       "      <td>2.666667</td>\n",
       "      <td>3.555556</td>\n",
       "    </tr>\n",
       "    <tr>\n",
       "      <th>4</th>\n",
       "      <td>337.74524</td>\n",
       "      <td>0</td>\n",
       "      <td>Post-Secondary</td>\n",
       "      <td>3.666667</td>\n",
       "      <td>2.714286</td>\n",
       "      <td>2.777778</td>\n",
       "      <td>2.666667</td>\n",
       "    </tr>\n",
       "  </tbody>\n",
       "</table>\n",
       "</div>"
      ],
      "text/plain": [
       "   math_score  sex             education  interest  teaching   success  \\\n",
       "0   536.92562    0  University or Higher  3.666667  3.571429  2.888889   \n",
       "1   378.99368    0        Post-Secondary  3.555556  3.571429  2.888889   \n",
       "2   509.67676    0        Post-Secondary  3.333333  3.285714  2.777778   \n",
       "3   357.27753    0        Post-Secondary  3.222222  3.571429  2.666667   \n",
       "4   337.74524    0        Post-Secondary  3.666667  2.714286  2.777778   \n",
       "\n",
       "   importance  \n",
       "0    3.555556  \n",
       "1    3.555556  \n",
       "2    3.555556  \n",
       "3    3.555556  \n",
       "4    2.666667  "
      ]
     },
     "execution_count": 6,
     "metadata": {},
     "output_type": "execute_result"
    }
   ],
   "source": [
    "data.head()"
   ]
  },
  {
   "cell_type": "markdown",
   "id": "b92de712",
   "metadata": {},
   "source": [
    "Let's make 3 more datasets of different size."
   ]
  },
  {
   "cell_type": "code",
   "execution_count": 7,
   "id": "892e5931",
   "metadata": {},
   "outputs": [],
   "source": [
    "data100 = data.sample(n=100, random_state=1)\n",
    "data700 = data.sample(n=700, random_state=1)\n",
    "data5000 = data.sample(n=5000, random_state=1)"
   ]
  },
  {
   "cell_type": "markdown",
   "id": "83bbefac",
   "metadata": {},
   "source": [
    "## Testing Hypotheses"
   ]
  },
  {
   "cell_type": "code",
   "execution_count": 8,
   "id": "3498e336",
   "metadata": {},
   "outputs": [],
   "source": [
    "from scipy import stats"
   ]
  },
  {
   "cell_type": "markdown",
   "id": "285ea8df",
   "metadata": {},
   "source": [
    "### Simple tests\n",
    "\n",
    "1. There is no differences in math score between girls and boys."
   ]
  },
  {
   "cell_type": "markdown",
   "id": "172e4f82",
   "metadata": {},
   "source": [
    "full data"
   ]
  },
  {
   "cell_type": "code",
   "execution_count": 9,
   "id": "b69b7c33",
   "metadata": {},
   "outputs": [
    {
     "name": "stdout",
     "output_type": "stream",
     "text": [
      "Ttest_indResult(statistic=4.716614450989327, pvalue=2.4171381155317728e-06)\n"
     ]
    }
   ],
   "source": [
    "# Welch t-test\n",
    "res = stats.ttest_ind(data[data['sex'] == 0]['math_score'], \n",
    "                      data[data['sex'] == 1]['math_score'], \n",
    "                      equal_var=False)\n",
    "print(res)"
   ]
  },
  {
   "cell_type": "markdown",
   "id": "cc84fec3",
   "metadata": {},
   "source": [
    "100 observations"
   ]
  },
  {
   "cell_type": "code",
   "execution_count": 10,
   "id": "e819ae14",
   "metadata": {},
   "outputs": [
    {
     "name": "stdout",
     "output_type": "stream",
     "text": [
      "Ttest_indResult(statistic=0.6185704149187845, pvalue=0.5378452969280991)\n"
     ]
    }
   ],
   "source": [
    "res = stats.ttest_ind(data100[data100['sex'] == 0]['math_score'], \n",
    "                      data100[data100['sex'] == 1]['math_score'], \n",
    "                      equal_var=False)\n",
    "print(res)"
   ]
  },
  {
   "cell_type": "markdown",
   "id": "0334f042",
   "metadata": {},
   "source": [
    "700 observations"
   ]
  },
  {
   "cell_type": "code",
   "execution_count": 11,
   "id": "0c75743b",
   "metadata": {},
   "outputs": [
    {
     "name": "stdout",
     "output_type": "stream",
     "text": [
      "Ttest_indResult(statistic=-0.17516869053536618, pvalue=0.8609980992603705)\n"
     ]
    }
   ],
   "source": [
    "res = stats.ttest_ind(data700[data700['sex'] == 0]['math_score'], \n",
    "                      data700[data700['sex'] == 1]['math_score'], \n",
    "                      equal_var=False)\n",
    "print(res)"
   ]
  },
  {
   "cell_type": "markdown",
   "id": "c14284fc",
   "metadata": {},
   "source": [
    "5000 observations"
   ]
  },
  {
   "cell_type": "code",
   "execution_count": 12,
   "id": "b7b43629",
   "metadata": {},
   "outputs": [
    {
     "name": "stdout",
     "output_type": "stream",
     "text": [
      "Ttest_indResult(statistic=2.645970108713191, pvalue=0.008171817565421579)\n"
     ]
    }
   ],
   "source": [
    "res = stats.ttest_ind(data5000[data5000['sex'] == 0]['math_score'], \n",
    "                      data5000[data5000['sex'] == 1]['math_score'], \n",
    "                      equal_var=False)\n",
    "print(res)"
   ]
  },
  {
   "cell_type": "markdown",
   "id": "347df0ed",
   "metadata": {},
   "source": [
    "### Linear Regression\n",
    "\n",
    "Target variable - math score"
   ]
  },
  {
   "cell_type": "code",
   "execution_count": 13,
   "id": "ca0bc13b",
   "metadata": {},
   "outputs": [],
   "source": [
    "import statsmodels.formula.api as smf\n",
    "import numpy as np"
   ]
  },
  {
   "cell_type": "code",
   "execution_count": 14,
   "id": "f02a3f3c",
   "metadata": {},
   "outputs": [
    {
     "data": {
      "text/html": [
       "<table class=\"simpletable\">\n",
       "<caption>OLS Regression Results</caption>\n",
       "<tr>\n",
       "  <th>Dep. Variable:</th>       <td>math_score</td>    <th>  R-squared:         </th>  <td>   0.166</td>  \n",
       "</tr>\n",
       "<tr>\n",
       "  <th>Model:</th>                   <td>OLS</td>       <th>  Adj. R-squared:    </th>  <td>   0.166</td>  \n",
       "</tr>\n",
       "<tr>\n",
       "  <th>Method:</th>             <td>Least Squares</td>  <th>  F-statistic:       </th>  <td>   433.2</td>  \n",
       "</tr>\n",
       "<tr>\n",
       "  <th>Date:</th>             <td>Fri, 16 Sep 2022</td> <th>  Prob (F-statistic):</th>   <td>  0.00</td>   \n",
       "</tr>\n",
       "<tr>\n",
       "  <th>Time:</th>                 <td>16:50:26</td>     <th>  Log-Likelihood:    </th> <td>-1.0253e+05</td>\n",
       "</tr>\n",
       "<tr>\n",
       "  <th>No. Observations:</th>      <td> 17368</td>      <th>  AIC:               </th>  <td>2.051e+05</td> \n",
       "</tr>\n",
       "<tr>\n",
       "  <th>Df Residuals:</th>          <td> 17359</td>      <th>  BIC:               </th>  <td>2.051e+05</td> \n",
       "</tr>\n",
       "<tr>\n",
       "  <th>Df Model:</th>              <td>     8</td>      <th>                     </th>      <td> </td>     \n",
       "</tr>\n",
       "<tr>\n",
       "  <th>Covariance Type:</th>      <td>nonrobust</td>    <th>                     </th>      <td> </td>     \n",
       "</tr>\n",
       "</table>\n",
       "<table class=\"simpletable\">\n",
       "<tr>\n",
       "                                    <td></td>                                       <th>coef</th>     <th>std err</th>      <th>t</th>      <th>P>|t|</th>  <th>[0.025</th>    <th>0.975]</th>  \n",
       "</tr>\n",
       "<tr>\n",
       "  <th>Intercept</th>                                                             <td>  311.7881</td> <td>    4.528</td> <td>   68.858</td> <td> 0.000</td> <td>  302.913</td> <td>  320.663</td>\n",
       "</tr>\n",
       "<tr>\n",
       "  <th>C(sex)[T.1]</th>                                                           <td>  -10.2230</td> <td>    1.359</td> <td>   -7.525</td> <td> 0.000</td> <td>  -12.886</td> <td>   -7.560</td>\n",
       "</tr>\n",
       "<tr>\n",
       "  <th>C(education, Treatment('Secondary or lower'))[T.Don't Know]</th>           <td>   28.0868</td> <td>    2.053</td> <td>   13.679</td> <td> 0.000</td> <td>   24.062</td> <td>   32.111</td>\n",
       "</tr>\n",
       "<tr>\n",
       "  <th>C(education, Treatment('Secondary or lower'))[T.Post-Secondary]</th>       <td>   33.3142</td> <td>    2.551</td> <td>   13.060</td> <td> 0.000</td> <td>   28.314</td> <td>   38.314</td>\n",
       "</tr>\n",
       "<tr>\n",
       "  <th>C(education, Treatment('Secondary or lower'))[T.University or Higher]</th> <td>   67.5929</td> <td>    2.019</td> <td>   33.482</td> <td> 0.000</td> <td>   63.636</td> <td>   71.550</td>\n",
       "</tr>\n",
       "<tr>\n",
       "  <th>interest</th>                                                              <td>  -15.4473</td> <td>    1.538</td> <td>  -10.047</td> <td> 0.000</td> <td>  -18.461</td> <td>  -12.434</td>\n",
       "</tr>\n",
       "<tr>\n",
       "  <th>teaching</th>                                                              <td>   16.9601</td> <td>    1.235</td> <td>   13.731</td> <td> 0.000</td> <td>   14.539</td> <td>   19.381</td>\n",
       "</tr>\n",
       "<tr>\n",
       "  <th>success</th>                                                               <td>   36.9308</td> <td>    1.183</td> <td>   31.231</td> <td> 0.000</td> <td>   34.613</td> <td>   39.249</td>\n",
       "</tr>\n",
       "<tr>\n",
       "  <th>importance</th>                                                            <td>    4.4650</td> <td>    1.298</td> <td>    3.440</td> <td> 0.001</td> <td>    1.921</td> <td>    7.009</td>\n",
       "</tr>\n",
       "</table>\n",
       "<table class=\"simpletable\">\n",
       "<tr>\n",
       "  <th>Omnibus:</th>       <td>119.298</td> <th>  Durbin-Watson:     </th> <td>   0.970</td>\n",
       "</tr>\n",
       "<tr>\n",
       "  <th>Prob(Omnibus):</th> <td> 0.000</td>  <th>  Jarque-Bera (JB):  </th> <td>  96.276</td>\n",
       "</tr>\n",
       "<tr>\n",
       "  <th>Skew:</th>          <td>-0.109</td>  <th>  Prob(JB):          </th> <td>1.24e-21</td>\n",
       "</tr>\n",
       "<tr>\n",
       "  <th>Kurtosis:</th>      <td> 2.708</td>  <th>  Cond. No.          </th> <td>    45.1</td>\n",
       "</tr>\n",
       "</table><br/><br/>Notes:<br/>[1] Standard Errors assume that the covariance matrix of the errors is correctly specified."
      ],
      "text/plain": [
       "<class 'statsmodels.iolib.summary.Summary'>\n",
       "\"\"\"\n",
       "                            OLS Regression Results                            \n",
       "==============================================================================\n",
       "Dep. Variable:             math_score   R-squared:                       0.166\n",
       "Model:                            OLS   Adj. R-squared:                  0.166\n",
       "Method:                 Least Squares   F-statistic:                     433.2\n",
       "Date:                Fri, 16 Sep 2022   Prob (F-statistic):               0.00\n",
       "Time:                        16:50:26   Log-Likelihood:            -1.0253e+05\n",
       "No. Observations:               17368   AIC:                         2.051e+05\n",
       "Df Residuals:                   17359   BIC:                         2.051e+05\n",
       "Df Model:                           8                                         \n",
       "Covariance Type:            nonrobust                                         \n",
       "=========================================================================================================================================\n",
       "                                                                            coef    std err          t      P>|t|      [0.025      0.975]\n",
       "-----------------------------------------------------------------------------------------------------------------------------------------\n",
       "Intercept                                                               311.7881      4.528     68.858      0.000     302.913     320.663\n",
       "C(sex)[T.1]                                                             -10.2230      1.359     -7.525      0.000     -12.886      -7.560\n",
       "C(education, Treatment('Secondary or lower'))[T.Don't Know]              28.0868      2.053     13.679      0.000      24.062      32.111\n",
       "C(education, Treatment('Secondary or lower'))[T.Post-Secondary]          33.3142      2.551     13.060      0.000      28.314      38.314\n",
       "C(education, Treatment('Secondary or lower'))[T.University or Higher]    67.5929      2.019     33.482      0.000      63.636      71.550\n",
       "interest                                                                -15.4473      1.538    -10.047      0.000     -18.461     -12.434\n",
       "teaching                                                                 16.9601      1.235     13.731      0.000      14.539      19.381\n",
       "success                                                                  36.9308      1.183     31.231      0.000      34.613      39.249\n",
       "importance                                                                4.4650      1.298      3.440      0.001       1.921       7.009\n",
       "==============================================================================\n",
       "Omnibus:                      119.298   Durbin-Watson:                   0.970\n",
       "Prob(Omnibus):                  0.000   Jarque-Bera (JB):               96.276\n",
       "Skew:                          -0.109   Prob(JB):                     1.24e-21\n",
       "Kurtosis:                       2.708   Cond. No.                         45.1\n",
       "==============================================================================\n",
       "\n",
       "Notes:\n",
       "[1] Standard Errors assume that the covariance matrix of the errors is correctly specified.\n",
       "\"\"\""
      ]
     },
     "execution_count": 14,
     "metadata": {},
     "output_type": "execute_result"
    }
   ],
   "source": [
    "import statsmodels.formula.api as smf\n",
    "\n",
    "m_full = smf.ols(formula=\"math_score ~ C(sex) + interest + teaching + success + importance + C(education, Treatment('Secondary or lower'))\", \n",
    "                 data=data).fit()\n",
    "m_full.summary()"
   ]
  },
  {
   "cell_type": "code",
   "execution_count": 15,
   "id": "96aa3462",
   "metadata": {
    "scrolled": true
   },
   "outputs": [
    {
     "data": {
      "text/html": [
       "<table class=\"simpletable\">\n",
       "<caption>OLS Regression Results</caption>\n",
       "<tr>\n",
       "  <th>Dep. Variable:</th>       <td>math_score</td>    <th>  R-squared:         </th> <td>   0.259</td>\n",
       "</tr>\n",
       "<tr>\n",
       "  <th>Model:</th>                   <td>OLS</td>       <th>  Adj. R-squared:    </th> <td>   0.194</td>\n",
       "</tr>\n",
       "<tr>\n",
       "  <th>Method:</th>             <td>Least Squares</td>  <th>  F-statistic:       </th> <td>   3.978</td>\n",
       "</tr>\n",
       "<tr>\n",
       "  <th>Date:</th>             <td>Fri, 16 Sep 2022</td> <th>  Prob (F-statistic):</th> <td>0.000445</td>\n",
       "</tr>\n",
       "<tr>\n",
       "  <th>Time:</th>                 <td>16:50:29</td>     <th>  Log-Likelihood:    </th> <td> -583.53</td>\n",
       "</tr>\n",
       "<tr>\n",
       "  <th>No. Observations:</th>      <td>   100</td>      <th>  AIC:               </th> <td>   1185.</td>\n",
       "</tr>\n",
       "<tr>\n",
       "  <th>Df Residuals:</th>          <td>    91</td>      <th>  BIC:               </th> <td>   1209.</td>\n",
       "</tr>\n",
       "<tr>\n",
       "  <th>Df Model:</th>              <td>     8</td>      <th>                     </th>     <td> </td>   \n",
       "</tr>\n",
       "<tr>\n",
       "  <th>Covariance Type:</th>      <td>nonrobust</td>    <th>                     </th>     <td> </td>   \n",
       "</tr>\n",
       "</table>\n",
       "<table class=\"simpletable\">\n",
       "<tr>\n",
       "                                    <td></td>                                       <th>coef</th>     <th>std err</th>      <th>t</th>      <th>P>|t|</th>  <th>[0.025</th>    <th>0.975]</th>  \n",
       "</tr>\n",
       "<tr>\n",
       "  <th>Intercept</th>                                                             <td>  260.1179</td> <td>   65.738</td> <td>    3.957</td> <td> 0.000</td> <td>  129.538</td> <td>  390.698</td>\n",
       "</tr>\n",
       "<tr>\n",
       "  <th>C(sex)[T.1]</th>                                                           <td>  -14.0240</td> <td>   18.236</td> <td>   -0.769</td> <td> 0.444</td> <td>  -50.247</td> <td>   22.199</td>\n",
       "</tr>\n",
       "<tr>\n",
       "  <th>C(education, Treatment('Secondary or lower'))[T.Don't Know]</th>           <td>   50.7833</td> <td>   26.793</td> <td>    1.895</td> <td> 0.061</td> <td>   -2.438</td> <td>  104.004</td>\n",
       "</tr>\n",
       "<tr>\n",
       "  <th>C(education, Treatment('Secondary or lower'))[T.Post-Secondary]</th>       <td>   35.5633</td> <td>   30.160</td> <td>    1.179</td> <td> 0.241</td> <td>  -24.347</td> <td>   95.473</td>\n",
       "</tr>\n",
       "<tr>\n",
       "  <th>C(education, Treatment('Secondary or lower'))[T.University or Higher]</th> <td>   96.1762</td> <td>   26.523</td> <td>    3.626</td> <td> 0.000</td> <td>   43.491</td> <td>  148.861</td>\n",
       "</tr>\n",
       "<tr>\n",
       "  <th>interest</th>                                                              <td>  -11.3223</td> <td>   23.354</td> <td>   -0.485</td> <td> 0.629</td> <td>  -57.713</td> <td>   35.069</td>\n",
       "</tr>\n",
       "<tr>\n",
       "  <th>teaching</th>                                                              <td>   16.3977</td> <td>   20.218</td> <td>    0.811</td> <td> 0.419</td> <td>  -23.764</td> <td>   56.559</td>\n",
       "</tr>\n",
       "<tr>\n",
       "  <th>success</th>                                                               <td>   44.2659</td> <td>   16.524</td> <td>    2.679</td> <td> 0.009</td> <td>   11.443</td> <td>   77.089</td>\n",
       "</tr>\n",
       "<tr>\n",
       "  <th>importance</th>                                                            <td>    5.0002</td> <td>   21.162</td> <td>    0.236</td> <td> 0.814</td> <td>  -37.035</td> <td>   47.036</td>\n",
       "</tr>\n",
       "</table>\n",
       "<table class=\"simpletable\">\n",
       "<tr>\n",
       "  <th>Omnibus:</th>       <td> 0.754</td> <th>  Durbin-Watson:     </th> <td>   2.106</td>\n",
       "</tr>\n",
       "<tr>\n",
       "  <th>Prob(Omnibus):</th> <td> 0.686</td> <th>  Jarque-Bera (JB):  </th> <td>   0.870</td>\n",
       "</tr>\n",
       "<tr>\n",
       "  <th>Skew:</th>          <td> 0.183</td> <th>  Prob(JB):          </th> <td>   0.647</td>\n",
       "</tr>\n",
       "<tr>\n",
       "  <th>Kurtosis:</th>      <td> 2.725</td> <th>  Cond. No.          </th> <td>    50.6</td>\n",
       "</tr>\n",
       "</table><br/><br/>Notes:<br/>[1] Standard Errors assume that the covariance matrix of the errors is correctly specified."
      ],
      "text/plain": [
       "<class 'statsmodels.iolib.summary.Summary'>\n",
       "\"\"\"\n",
       "                            OLS Regression Results                            \n",
       "==============================================================================\n",
       "Dep. Variable:             math_score   R-squared:                       0.259\n",
       "Model:                            OLS   Adj. R-squared:                  0.194\n",
       "Method:                 Least Squares   F-statistic:                     3.978\n",
       "Date:                Fri, 16 Sep 2022   Prob (F-statistic):           0.000445\n",
       "Time:                        16:50:29   Log-Likelihood:                -583.53\n",
       "No. Observations:                 100   AIC:                             1185.\n",
       "Df Residuals:                      91   BIC:                             1209.\n",
       "Df Model:                           8                                         \n",
       "Covariance Type:            nonrobust                                         \n",
       "=========================================================================================================================================\n",
       "                                                                            coef    std err          t      P>|t|      [0.025      0.975]\n",
       "-----------------------------------------------------------------------------------------------------------------------------------------\n",
       "Intercept                                                               260.1179     65.738      3.957      0.000     129.538     390.698\n",
       "C(sex)[T.1]                                                             -14.0240     18.236     -0.769      0.444     -50.247      22.199\n",
       "C(education, Treatment('Secondary or lower'))[T.Don't Know]              50.7833     26.793      1.895      0.061      -2.438     104.004\n",
       "C(education, Treatment('Secondary or lower'))[T.Post-Secondary]          35.5633     30.160      1.179      0.241     -24.347      95.473\n",
       "C(education, Treatment('Secondary or lower'))[T.University or Higher]    96.1762     26.523      3.626      0.000      43.491     148.861\n",
       "interest                                                                -11.3223     23.354     -0.485      0.629     -57.713      35.069\n",
       "teaching                                                                 16.3977     20.218      0.811      0.419     -23.764      56.559\n",
       "success                                                                  44.2659     16.524      2.679      0.009      11.443      77.089\n",
       "importance                                                                5.0002     21.162      0.236      0.814     -37.035      47.036\n",
       "==============================================================================\n",
       "Omnibus:                        0.754   Durbin-Watson:                   2.106\n",
       "Prob(Omnibus):                  0.686   Jarque-Bera (JB):                0.870\n",
       "Skew:                           0.183   Prob(JB):                        0.647\n",
       "Kurtosis:                       2.725   Cond. No.                         50.6\n",
       "==============================================================================\n",
       "\n",
       "Notes:\n",
       "[1] Standard Errors assume that the covariance matrix of the errors is correctly specified.\n",
       "\"\"\""
      ]
     },
     "execution_count": 15,
     "metadata": {},
     "output_type": "execute_result"
    }
   ],
   "source": [
    "m_100 = smf.ols(formula=\"math_score ~ C(sex) + interest + teaching + success + importance + C(education, Treatment('Secondary or lower'))\", \n",
    "                 data=data100).fit()\n",
    "m_100.summary()"
   ]
  },
  {
   "cell_type": "code",
   "execution_count": 16,
   "id": "f0129225",
   "metadata": {},
   "outputs": [
    {
     "data": {
      "text/html": [
       "<table class=\"simpletable\">\n",
       "<caption>OLS Regression Results</caption>\n",
       "<tr>\n",
       "  <th>Dep. Variable:</th>       <td>math_score</td>    <th>  R-squared:         </th> <td>   0.158</td>\n",
       "</tr>\n",
       "<tr>\n",
       "  <th>Model:</th>                   <td>OLS</td>       <th>  Adj. R-squared:    </th> <td>   0.148</td>\n",
       "</tr>\n",
       "<tr>\n",
       "  <th>Method:</th>             <td>Least Squares</td>  <th>  F-statistic:       </th> <td>   16.18</td>\n",
       "</tr>\n",
       "<tr>\n",
       "  <th>Date:</th>             <td>Fri, 16 Sep 2022</td> <th>  Prob (F-statistic):</th> <td>5.03e-22</td>\n",
       "</tr>\n",
       "<tr>\n",
       "  <th>Time:</th>                 <td>16:50:30</td>     <th>  Log-Likelihood:    </th> <td> -4142.1</td>\n",
       "</tr>\n",
       "<tr>\n",
       "  <th>No. Observations:</th>      <td>   700</td>      <th>  AIC:               </th> <td>   8302.</td>\n",
       "</tr>\n",
       "<tr>\n",
       "  <th>Df Residuals:</th>          <td>   691</td>      <th>  BIC:               </th> <td>   8343.</td>\n",
       "</tr>\n",
       "<tr>\n",
       "  <th>Df Model:</th>              <td>     8</td>      <th>                     </th>     <td> </td>   \n",
       "</tr>\n",
       "<tr>\n",
       "  <th>Covariance Type:</th>      <td>nonrobust</td>    <th>                     </th>     <td> </td>   \n",
       "</tr>\n",
       "</table>\n",
       "<table class=\"simpletable\">\n",
       "<tr>\n",
       "                                    <td></td>                                       <th>coef</th>     <th>std err</th>      <th>t</th>      <th>P>|t|</th>  <th>[0.025</th>    <th>0.975]</th>  \n",
       "</tr>\n",
       "<tr>\n",
       "  <th>Intercept</th>                                                             <td>  321.3466</td> <td>   23.661</td> <td>   13.581</td> <td> 0.000</td> <td>  274.891</td> <td>  367.802</td>\n",
       "</tr>\n",
       "<tr>\n",
       "  <th>C(sex)[T.1]</th>                                                           <td>    0.1481</td> <td>    6.975</td> <td>    0.021</td> <td> 0.983</td> <td>  -13.547</td> <td>   13.843</td>\n",
       "</tr>\n",
       "<tr>\n",
       "  <th>C(education, Treatment('Secondary or lower'))[T.Don't Know]</th>           <td>   31.1250</td> <td>   10.337</td> <td>    3.011</td> <td> 0.003</td> <td>   10.830</td> <td>   51.420</td>\n",
       "</tr>\n",
       "<tr>\n",
       "  <th>C(education, Treatment('Secondary or lower'))[T.Post-Secondary]</th>       <td>   29.9764</td> <td>   12.122</td> <td>    2.473</td> <td> 0.014</td> <td>    6.175</td> <td>   53.778</td>\n",
       "</tr>\n",
       "<tr>\n",
       "  <th>C(education, Treatment('Secondary or lower'))[T.University or Higher]</th> <td>   68.3319</td> <td>   10.187</td> <td>    6.708</td> <td> 0.000</td> <td>   48.331</td> <td>   88.333</td>\n",
       "</tr>\n",
       "<tr>\n",
       "  <th>interest</th>                                                              <td>  -23.3458</td> <td>    7.411</td> <td>   -3.150</td> <td> 0.002</td> <td>  -37.896</td> <td>   -8.795</td>\n",
       "</tr>\n",
       "<tr>\n",
       "  <th>teaching</th>                                                              <td>   16.1719</td> <td>    6.803</td> <td>    2.377</td> <td> 0.018</td> <td>    2.815</td> <td>   29.528</td>\n",
       "</tr>\n",
       "<tr>\n",
       "  <th>success</th>                                                               <td>   40.9529</td> <td>    6.058</td> <td>    6.760</td> <td> 0.000</td> <td>   29.059</td> <td>   52.847</td>\n",
       "</tr>\n",
       "<tr>\n",
       "  <th>importance</th>                                                            <td>    2.8954</td> <td>    6.417</td> <td>    0.451</td> <td> 0.652</td> <td>   -9.704</td> <td>   15.495</td>\n",
       "</tr>\n",
       "</table>\n",
       "<table class=\"simpletable\">\n",
       "<tr>\n",
       "  <th>Omnibus:</th>       <td> 2.406</td> <th>  Durbin-Watson:     </th> <td>   2.024</td>\n",
       "</tr>\n",
       "<tr>\n",
       "  <th>Prob(Omnibus):</th> <td> 0.300</td> <th>  Jarque-Bera (JB):  </th> <td>   2.100</td>\n",
       "</tr>\n",
       "<tr>\n",
       "  <th>Skew:</th>          <td> 0.023</td> <th>  Prob(JB):          </th> <td>   0.350</td>\n",
       "</tr>\n",
       "<tr>\n",
       "  <th>Kurtosis:</th>      <td> 2.736</td> <th>  Cond. No.          </th> <td>    46.2</td>\n",
       "</tr>\n",
       "</table><br/><br/>Notes:<br/>[1] Standard Errors assume that the covariance matrix of the errors is correctly specified."
      ],
      "text/plain": [
       "<class 'statsmodels.iolib.summary.Summary'>\n",
       "\"\"\"\n",
       "                            OLS Regression Results                            \n",
       "==============================================================================\n",
       "Dep. Variable:             math_score   R-squared:                       0.158\n",
       "Model:                            OLS   Adj. R-squared:                  0.148\n",
       "Method:                 Least Squares   F-statistic:                     16.18\n",
       "Date:                Fri, 16 Sep 2022   Prob (F-statistic):           5.03e-22\n",
       "Time:                        16:50:30   Log-Likelihood:                -4142.1\n",
       "No. Observations:                 700   AIC:                             8302.\n",
       "Df Residuals:                     691   BIC:                             8343.\n",
       "Df Model:                           8                                         \n",
       "Covariance Type:            nonrobust                                         \n",
       "=========================================================================================================================================\n",
       "                                                                            coef    std err          t      P>|t|      [0.025      0.975]\n",
       "-----------------------------------------------------------------------------------------------------------------------------------------\n",
       "Intercept                                                               321.3466     23.661     13.581      0.000     274.891     367.802\n",
       "C(sex)[T.1]                                                               0.1481      6.975      0.021      0.983     -13.547      13.843\n",
       "C(education, Treatment('Secondary or lower'))[T.Don't Know]              31.1250     10.337      3.011      0.003      10.830      51.420\n",
       "C(education, Treatment('Secondary or lower'))[T.Post-Secondary]          29.9764     12.122      2.473      0.014       6.175      53.778\n",
       "C(education, Treatment('Secondary or lower'))[T.University or Higher]    68.3319     10.187      6.708      0.000      48.331      88.333\n",
       "interest                                                                -23.3458      7.411     -3.150      0.002     -37.896      -8.795\n",
       "teaching                                                                 16.1719      6.803      2.377      0.018       2.815      29.528\n",
       "success                                                                  40.9529      6.058      6.760      0.000      29.059      52.847\n",
       "importance                                                                2.8954      6.417      0.451      0.652      -9.704      15.495\n",
       "==============================================================================\n",
       "Omnibus:                        2.406   Durbin-Watson:                   2.024\n",
       "Prob(Omnibus):                  0.300   Jarque-Bera (JB):                2.100\n",
       "Skew:                           0.023   Prob(JB):                        0.350\n",
       "Kurtosis:                       2.736   Cond. No.                         46.2\n",
       "==============================================================================\n",
       "\n",
       "Notes:\n",
       "[1] Standard Errors assume that the covariance matrix of the errors is correctly specified.\n",
       "\"\"\""
      ]
     },
     "execution_count": 16,
     "metadata": {},
     "output_type": "execute_result"
    }
   ],
   "source": [
    "m_700 = smf.ols(formula=\"math_score ~ C(sex) + interest + teaching + success + importance + C(education, Treatment('Secondary or lower'))\", \n",
    "                 data=data700).fit()\n",
    "m_700.summary()"
   ]
  },
  {
   "cell_type": "code",
   "execution_count": 17,
   "id": "f4375646",
   "metadata": {},
   "outputs": [
    {
     "data": {
      "text/html": [
       "<table class=\"simpletable\">\n",
       "<caption>OLS Regression Results</caption>\n",
       "<tr>\n",
       "  <th>Dep. Variable:</th>       <td>math_score</td>    <th>  R-squared:         </th> <td>   0.175</td> \n",
       "</tr>\n",
       "<tr>\n",
       "  <th>Model:</th>                   <td>OLS</td>       <th>  Adj. R-squared:    </th> <td>   0.173</td> \n",
       "</tr>\n",
       "<tr>\n",
       "  <th>Method:</th>             <td>Least Squares</td>  <th>  F-statistic:       </th> <td>   132.0</td> \n",
       "</tr>\n",
       "<tr>\n",
       "  <th>Date:</th>             <td>Fri, 16 Sep 2022</td> <th>  Prob (F-statistic):</th> <td>1.38e-201</td>\n",
       "</tr>\n",
       "<tr>\n",
       "  <th>Time:</th>                 <td>16:50:33</td>     <th>  Log-Likelihood:    </th> <td> -29495.</td> \n",
       "</tr>\n",
       "<tr>\n",
       "  <th>No. Observations:</th>      <td>  5000</td>      <th>  AIC:               </th> <td>5.901e+04</td>\n",
       "</tr>\n",
       "<tr>\n",
       "  <th>Df Residuals:</th>          <td>  4991</td>      <th>  BIC:               </th> <td>5.907e+04</td>\n",
       "</tr>\n",
       "<tr>\n",
       "  <th>Df Model:</th>              <td>     8</td>      <th>                     </th>     <td> </td>    \n",
       "</tr>\n",
       "<tr>\n",
       "  <th>Covariance Type:</th>      <td>nonrobust</td>    <th>                     </th>     <td> </td>    \n",
       "</tr>\n",
       "</table>\n",
       "<table class=\"simpletable\">\n",
       "<tr>\n",
       "                                    <td></td>                                       <th>coef</th>     <th>std err</th>      <th>t</th>      <th>P>|t|</th>  <th>[0.025</th>    <th>0.975]</th>  \n",
       "</tr>\n",
       "<tr>\n",
       "  <th>Intercept</th>                                                             <td>  314.3728</td> <td>    8.507</td> <td>   36.953</td> <td> 0.000</td> <td>  297.695</td> <td>  331.051</td>\n",
       "</tr>\n",
       "<tr>\n",
       "  <th>C(sex)[T.1]</th>                                                           <td>  -10.2016</td> <td>    2.527</td> <td>   -4.036</td> <td> 0.000</td> <td>  -15.156</td> <td>   -5.247</td>\n",
       "</tr>\n",
       "<tr>\n",
       "  <th>C(education, Treatment('Secondary or lower'))[T.Don't Know]</th>           <td>   30.8635</td> <td>    3.807</td> <td>    8.107</td> <td> 0.000</td> <td>   23.400</td> <td>   38.327</td>\n",
       "</tr>\n",
       "<tr>\n",
       "  <th>C(education, Treatment('Secondary or lower'))[T.Post-Secondary]</th>       <td>   35.6516</td> <td>    4.682</td> <td>    7.615</td> <td> 0.000</td> <td>   26.473</td> <td>   44.830</td>\n",
       "</tr>\n",
       "<tr>\n",
       "  <th>C(education, Treatment('Secondary or lower'))[T.University or Higher]</th> <td>   73.9682</td> <td>    3.749</td> <td>   19.733</td> <td> 0.000</td> <td>   66.619</td> <td>   81.317</td>\n",
       "</tr>\n",
       "<tr>\n",
       "  <th>interest</th>                                                              <td>  -15.3592</td> <td>    2.815</td> <td>   -5.457</td> <td> 0.000</td> <td>  -20.877</td> <td>   -9.841</td>\n",
       "</tr>\n",
       "<tr>\n",
       "  <th>teaching</th>                                                              <td>   14.6624</td> <td>    2.319</td> <td>    6.324</td> <td> 0.000</td> <td>   10.117</td> <td>   19.208</td>\n",
       "</tr>\n",
       "<tr>\n",
       "  <th>success</th>                                                               <td>   37.5497</td> <td>    2.238</td> <td>   16.777</td> <td> 0.000</td> <td>   33.162</td> <td>   41.938</td>\n",
       "</tr>\n",
       "<tr>\n",
       "  <th>importance</th>                                                            <td>    4.0534</td> <td>    2.462</td> <td>    1.646</td> <td> 0.100</td> <td>   -0.773</td> <td>    8.880</td>\n",
       "</tr>\n",
       "</table>\n",
       "<table class=\"simpletable\">\n",
       "<tr>\n",
       "  <th>Omnibus:</th>       <td>39.449</td> <th>  Durbin-Watson:     </th> <td>   2.015</td>\n",
       "</tr>\n",
       "<tr>\n",
       "  <th>Prob(Omnibus):</th> <td> 0.000</td> <th>  Jarque-Bera (JB):  </th> <td>  32.773</td>\n",
       "</tr>\n",
       "<tr>\n",
       "  <th>Skew:</th>          <td>-0.131</td> <th>  Prob(JB):          </th> <td>7.65e-08</td>\n",
       "</tr>\n",
       "<tr>\n",
       "  <th>Kurtosis:</th>      <td> 2.703</td> <th>  Cond. No.          </th> <td>    45.5</td>\n",
       "</tr>\n",
       "</table><br/><br/>Notes:<br/>[1] Standard Errors assume that the covariance matrix of the errors is correctly specified."
      ],
      "text/plain": [
       "<class 'statsmodels.iolib.summary.Summary'>\n",
       "\"\"\"\n",
       "                            OLS Regression Results                            \n",
       "==============================================================================\n",
       "Dep. Variable:             math_score   R-squared:                       0.175\n",
       "Model:                            OLS   Adj. R-squared:                  0.173\n",
       "Method:                 Least Squares   F-statistic:                     132.0\n",
       "Date:                Fri, 16 Sep 2022   Prob (F-statistic):          1.38e-201\n",
       "Time:                        16:50:33   Log-Likelihood:                -29495.\n",
       "No. Observations:                5000   AIC:                         5.901e+04\n",
       "Df Residuals:                    4991   BIC:                         5.907e+04\n",
       "Df Model:                           8                                         \n",
       "Covariance Type:            nonrobust                                         \n",
       "=========================================================================================================================================\n",
       "                                                                            coef    std err          t      P>|t|      [0.025      0.975]\n",
       "-----------------------------------------------------------------------------------------------------------------------------------------\n",
       "Intercept                                                               314.3728      8.507     36.953      0.000     297.695     331.051\n",
       "C(sex)[T.1]                                                             -10.2016      2.527     -4.036      0.000     -15.156      -5.247\n",
       "C(education, Treatment('Secondary or lower'))[T.Don't Know]              30.8635      3.807      8.107      0.000      23.400      38.327\n",
       "C(education, Treatment('Secondary or lower'))[T.Post-Secondary]          35.6516      4.682      7.615      0.000      26.473      44.830\n",
       "C(education, Treatment('Secondary or lower'))[T.University or Higher]    73.9682      3.749     19.733      0.000      66.619      81.317\n",
       "interest                                                                -15.3592      2.815     -5.457      0.000     -20.877      -9.841\n",
       "teaching                                                                 14.6624      2.319      6.324      0.000      10.117      19.208\n",
       "success                                                                  37.5497      2.238     16.777      0.000      33.162      41.938\n",
       "importance                                                                4.0534      2.462      1.646      0.100      -0.773       8.880\n",
       "==============================================================================\n",
       "Omnibus:                       39.449   Durbin-Watson:                   2.015\n",
       "Prob(Omnibus):                  0.000   Jarque-Bera (JB):               32.773\n",
       "Skew:                          -0.131   Prob(JB):                     7.65e-08\n",
       "Kurtosis:                       2.703   Cond. No.                         45.5\n",
       "==============================================================================\n",
       "\n",
       "Notes:\n",
       "[1] Standard Errors assume that the covariance matrix of the errors is correctly specified.\n",
       "\"\"\""
      ]
     },
     "execution_count": 17,
     "metadata": {},
     "output_type": "execute_result"
    }
   ],
   "source": [
    "m_5000 = smf.ols(formula=\"math_score ~ C(sex) + interest + teaching + success + importance + C(education, Treatment('Secondary or lower'))\", \n",
    "                 data=data5000).fit()\n",
    "m_5000.summary()"
   ]
  },
  {
   "cell_type": "markdown",
   "id": "a874d365",
   "metadata": {},
   "source": [
    "## Robust measures\n",
    "\n",
    "Robust measures of scale are methods that quantify the statistical dispersion in a sample of numerical data while *resisting outliers*. \n",
    "\n",
    "The most common such robust statistics are **the interquartile range (IQR)** and **the median absolute deviation (MAD)**. These are contrasted with conventional or non-robust measures of scale, such as sample variance or standard deviation, which are greatly influenced by outliers.\n",
    "\n"
   ]
  },
  {
   "cell_type": "markdown",
   "id": "27c9e531",
   "metadata": {},
   "source": [
    "**The interquartile range (IQR)**: the difference between the 75th percentile and the 25th percentile of a sample"
   ]
  },
  {
   "cell_type": "code",
   "execution_count": 18,
   "id": "9104841e",
   "metadata": {},
   "outputs": [],
   "source": [
    "q3, q1 = np.percentile(data['math_score'], [75 ,25])\n",
    "iqr = q3 - q1"
   ]
  },
  {
   "cell_type": "code",
   "execution_count": 20,
   "id": "a10d50cf",
   "metadata": {},
   "outputs": [
    {
     "data": {
      "text/plain": [
       "<AxesSubplot:>"
      ]
     },
     "execution_count": 20,
     "metadata": {},
     "output_type": "execute_result"
    },
    {
     "data": {
      "image/png": "[encoded data removed]",
      "text/plain": [
       "<Figure size 432x288 with 1 Axes>"
      ]
     },
     "metadata": {
      "needs_background": "light"
     },
     "output_type": "display_data"
    }
   ],
   "source": [
    "data['math_score'].hist()"
   ]
  },
  {
   "cell_type": "code",
   "execution_count": 19,
   "id": "886ec8a1",
   "metadata": {},
   "outputs": [
    {
     "data": {
      "text/plain": [
       "138.99698750000005"
      ]
     },
     "execution_count": 19,
     "metadata": {},
     "output_type": "execute_result"
    }
   ],
   "source": [
    "iqr"
   ]
  },
  {
   "cell_type": "markdown",
   "id": "f6e33148",
   "metadata": {},
   "source": [
    "**Robust Regressions**\n",
    "\n",
    "https://www.statsmodels.org/devel/rlm.html\n",
    "\n",
    "Huber, RANSAC, TheilSen\n",
    "\n",
    "\n",
    "Huber regression - Square error for inliers, linear for outliers."
   ]
  },
  {
   "cell_type": "code",
   "execution_count": null,
   "id": "0b093755",
   "metadata": {},
   "outputs": [],
   "source": [
    "# Huber Regression\n",
    "\n",
    "import statsmodels.api as sm\n",
    "Y = data['math_score']\n",
    "X = sm.add_constant(pd.concat([data[['sex', 'interest', \n",
    "                                     'teaching', 'success', 'importance']], \n",
    "                               pd.get_dummies(data['education'])[[\"Don't Know\", \"Post-Secondary\", \n",
    "                                                                  \"University or Higher\"]]], axis=1))\n",
    "\n",
    "rlm = sm.RLM(Y, X, M=sm.robust.norms.HuberT()).fit()\n",
    "print(rlm.summary())"
   ]
  },
  {
   "cell_type": "markdown",
   "id": "30a173a8",
   "metadata": {},
   "source": [
    "## Multimodal data\n",
    "\n",
    "read the following link about some methods for working with multimodal features:\n",
    "\n",
    "https://www.kaggle.com/code/iamleonie/handling-multimodal-distributions-fe-techniques"
   ]
  }
 ],
 "metadata": {
  "kernelspec": {
   "display_name": "Python 3 (ipykernel)",
   "language": "python",
   "name": "python3"
  },
  "language_info": {
   "codemirror_mode": {
    "name": "ipython",
    "version": 3
   },
   "file_extension": ".py",
   "mimetype": "text/x-python",
   "name": "python",
   "nbconvert_exporter": "python",
   "pygments_lexer": "ipython3",
   "version": "3.9.12"
  }
 },
 "nbformat": 4,
 "nbformat_minor": 5
}
