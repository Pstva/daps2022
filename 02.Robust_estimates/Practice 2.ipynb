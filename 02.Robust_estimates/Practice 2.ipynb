{
 "cells": [
  {
   "cell_type": "code",
   "execution_count": null,
   "id": "af6ed3e7",
   "metadata": {},
   "outputs": [],
   "source": [
    "#About Jacknife:\n",
    "\n",
    "#ImportError: cannot import name 'bootstrap' from 'scipy.stats\n",
    "#pip install -U scipy"
   ]
  },
  {
   "cell_type": "markdown",
   "id": "6dbf056a",
   "metadata": {},
   "source": [
    "# Practice 2. Sample size. Robust regressions."
   ]
  },
  {
   "cell_type": "markdown",
   "id": "3ebe3bba",
   "metadata": {},
   "source": [
    "## Data\n",
    "\n",
    "Again, the TIMSS 2019 data. We will use the data for United Arab Emirates.\n",
    "Data is already prepared as file **timss_all_data.csv** (preparation is the same as in the previous practice)\n",
    "\n",
    "\n",
    "Columns:\n",
    "\n",
    "+ math score - maths score (Mathematics Achievement, points scored by the student for tasks in mathematics)\n",
    "+ sex - boy\\girl (0\\1)\n",
    "+ education - Highest education of the parents\n",
    "+ interest - interest in maths (from not interested at all to love to maths )\n",
    "+ teaching - Teaching assessment (from he/she help to not clear, no help, not interesting to teacher’s explanations are clear and interesting things learned)\n",
    "+ success - success in maths (from no success to success)\n",
    "+ importance - attitude to maths, its importance for life (from not important at all to very important)"
   ]
  },
  {
   "cell_type": "code",
   "execution_count": null,
   "id": "697fd607",
   "metadata": {},
   "outputs": [],
   "source": [
    "import pandas as pd\n",
    "import numpy as np\n",
    "data = pd.read_csv('timss_uae.csv')"
   ]
  },
  {
   "cell_type": "code",
   "execution_count": null,
   "id": "4a11434f",
   "metadata": {},
   "outputs": [],
   "source": [
    "data = data[['math_score', 'sex', 'education', 'interest', 'teaching', 'success', 'importance']]"
   ]
  },
  {
   "cell_type": "code",
   "execution_count": null,
   "id": "64c1ca20",
   "metadata": {},
   "outputs": [],
   "source": [
    "data.head()"
   ]
  },
  {
   "cell_type": "markdown",
   "id": "b92de712",
   "metadata": {},
   "source": [
    "Let's make 3 more datasets of different size."
   ]
  },
  {
   "cell_type": "code",
   "execution_count": null,
   "id": "892e5931",
   "metadata": {},
   "outputs": [],
   "source": [
    "data100 = data.sample(n=100, random_state=1)\n",
    "data700 = data.sample(n=700, random_state=1)\n",
    "data5000 = data.sample(n=5000, random_state=1)"
   ]
  },
  {
   "cell_type": "markdown",
   "id": "83bbefac",
   "metadata": {},
   "source": [
    "## Testing Hypotheses"
   ]
  },
  {
   "cell_type": "code",
   "execution_count": null,
   "id": "3498e336",
   "metadata": {},
   "outputs": [],
   "source": [
    "from scipy import stats"
   ]
  },
  {
   "cell_type": "markdown",
   "id": "285ea8df",
   "metadata": {},
   "source": [
    "### Simple tests\n",
    "\n",
    "1. There is no differences in math score between girls and boys."
   ]
  },
  {
   "cell_type": "markdown",
   "id": "172e4f82",
   "metadata": {},
   "source": [
    "full data"
   ]
  },
  {
   "cell_type": "code",
   "execution_count": null,
   "id": "b69b7c33",
   "metadata": {},
   "outputs": [],
   "source": [
    "# Welch t-test\n",
    "res = stats.ttest_ind(data[data['sex'] == 0]['math_score'], \n",
    "                      data[data['sex'] == 1]['math_score'], \n",
    "                      equal_var=False)\n",
    "print(res)"
   ]
  },
  {
   "cell_type": "markdown",
   "id": "cc84fec3",
   "metadata": {},
   "source": [
    "100 observations"
   ]
  },
  {
   "cell_type": "code",
   "execution_count": null,
   "id": "e819ae14",
   "metadata": {},
   "outputs": [],
   "source": [
    "res = stats.ttest_ind(data100[data100['sex'] == 0]['math_score'], \n",
    "                      data100[data100['sex'] == 1]['math_score'], \n",
    "                      equal_var=False)\n",
    "print(res)"
   ]
  },
  {
   "cell_type": "markdown",
   "id": "0334f042",
   "metadata": {},
   "source": [
    "700 observations"
   ]
  },
  {
   "cell_type": "code",
   "execution_count": null,
   "id": "0c75743b",
   "metadata": {},
   "outputs": [],
   "source": [
    "res = stats.ttest_ind(data700[data700['sex'] == 0]['math_score'], \n",
    "                      data700[data700['sex'] == 1]['math_score'], \n",
    "                      equal_var=False)\n",
    "print(res)"
   ]
  },
  {
   "cell_type": "markdown",
   "id": "c14284fc",
   "metadata": {},
   "source": [
    "5000 observations"
   ]
  },
  {
   "cell_type": "code",
   "execution_count": null,
   "id": "b7b43629",
   "metadata": {},
   "outputs": [],
   "source": [
    "res = stats.ttest_ind(data5000[data5000['sex'] == 0]['math_score'], \n",
    "                      data5000[data5000['sex'] == 1]['math_score'], \n",
    "                      equal_var=False)\n",
    "print(res)"
   ]
  },
  {
   "cell_type": "markdown",
   "id": "347df0ed",
   "metadata": {},
   "source": [
    "### Linear Regression\n",
    "\n",
    "Target variable - math score"
   ]
  },
  {
   "cell_type": "code",
   "execution_count": null,
   "id": "ca0bc13b",
   "metadata": {},
   "outputs": [],
   "source": [
    "import statsmodels.formula.api as smf\n",
    "import numpy as np"
   ]
  },
  {
   "cell_type": "code",
   "execution_count": null,
   "id": "f02a3f3c",
   "metadata": {},
   "outputs": [],
   "source": [
    "import statsmodels.formula.api as smf\n",
    "\n",
    "m_full = smf.ols(formula=\"math_score ~ C(sex) + interest + teaching + success + importance + C(education, Treatment('Secondary or lower'))\", \n",
    "                 data=data).fit()\n",
    "m_full.summary()"
   ]
  },
  {
   "cell_type": "code",
   "execution_count": null,
   "id": "96aa3462",
   "metadata": {
    "scrolled": true
   },
   "outputs": [],
   "source": [
    "m_100 = smf.ols(formula=\"math_score ~ C(sex) + interest + teaching + success + importance + C(education, Treatment('Secondary or lower'))\", \n",
    "                 data=data100).fit()\n",
    "m_100.summary()"
   ]
  },
  {
   "cell_type": "code",
   "execution_count": null,
   "id": "f0129225",
   "metadata": {},
   "outputs": [],
   "source": [
    "m_700 = smf.ols(formula=\"math_score ~ C(sex) + interest + teaching + success + importance + C(education, Treatment('Secondary or lower'))\", \n",
    "                 data=data700).fit()\n",
    "m_700.summary()"
   ]
  },
  {
   "cell_type": "code",
   "execution_count": null,
   "id": "f4375646",
   "metadata": {},
   "outputs": [],
   "source": [
    "m_5000 = smf.ols(formula=\"math_score ~ C(sex) + interest + teaching + success + importance + C(education, Treatment('Secondary or lower'))\", \n",
    "                 data=data5000).fit()\n",
    "m_5000.summary()"
   ]
  },
  {
   "cell_type": "markdown",
   "id": "a874d365",
   "metadata": {},
   "source": [
    "## Robust measures\n",
    "\n",
    "Robust measures of scale are methods that quantify the statistical dispersion in a sample of numerical data while *resisting outliers*. \n",
    "\n",
    "The most common such robust statistics are **the interquartile range (IQR)** and **the median absolute deviation (MAD)**. These are contrasted with conventional or non-robust measures of scale, such as sample variance or standard deviation, which are greatly influenced by outliers.\n",
    "\n"
   ]
  },
  {
   "cell_type": "markdown",
   "id": "27c9e531",
   "metadata": {},
   "source": [
    "**The interquartile range (IQR)**: the difference between the 75th percentile and the 25th percentile of a sample"
   ]
  },
  {
   "cell_type": "code",
   "execution_count": null,
   "id": "9104841e",
   "metadata": {},
   "outputs": [],
   "source": [
    "q3, q1 = np.percentile(data['math_score'], [75 ,25])\n",
    "iqr = q3 - q1"
   ]
  },
  {
   "cell_type": "code",
   "execution_count": null,
   "id": "a10d50cf",
   "metadata": {},
   "outputs": [],
   "source": [
    "data['math_score'].hist()"
   ]
  },
  {
   "cell_type": "code",
   "execution_count": null,
   "id": "886ec8a1",
   "metadata": {},
   "outputs": [],
   "source": [
    "iqr"
   ]
  },
  {
   "cell_type": "markdown",
   "id": "f6e33148",
   "metadata": {},
   "source": [
    "**Robust Regressions**\n",
    "\n",
    "https://www.statsmodels.org/devel/rlm.html\n",
    "\n",
    "Huber, RANSAC, TheilSen\n",
    "\n",
    "\n",
    "Huber regression - Square error for inliers, linear for outliers."
   ]
  },
  {
   "cell_type": "code",
   "execution_count": null,
   "id": "0b093755",
   "metadata": {},
   "outputs": [],
   "source": [
    "# Huber Regression\n",
    "\n",
    "import statsmodels.api as sm\n",
    "Y = data['math_score']\n",
    "X = sm.add_constant(pd.concat([data[['sex', 'interest', \n",
    "                                     'teaching', 'success', 'importance']], \n",
    "                               pd.get_dummies(data['education'])[[\"Don't Know\", \"Post-Secondary\", \n",
    "                                                                  \"University or Higher\"]]], axis=1))\n",
    "\n",
    "rlm = sm.RLM(Y, X, M=sm.robust.norms.HuberT()).fit()\n",
    "print(rlm.summary())"
   ]
  },
  {
   "cell_type": "markdown",
   "id": "30a173a8",
   "metadata": {},
   "source": [
    "## Multimodal data\n",
    "\n",
    "read the following link about some methods for working with multimodal features:\n",
    "\n",
    "https://www.kaggle.com/code/iamleonie/handling-multimodal-distributions-fe-techniques"
   ]
  }
 ],
 "metadata": {
  "kernelspec": {
   "display_name": "Python 3 (ipykernel)",
   "language": "python",
   "name": "python3"
  },
  "language_info": {
   "codemirror_mode": {
    "name": "ipython",
    "version": 3
   },
   "file_extension": ".py",
   "mimetype": "text/x-python",
   "name": "python",
   "nbconvert_exporter": "python",
   "pygments_lexer": "ipython3",
   "version": "3.9.12"
  }
 },
 "nbformat": 4,
 "nbformat_minor": 5
}
