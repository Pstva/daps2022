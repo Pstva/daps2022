{
 "cells": [
  {
   "cell_type": "markdown",
   "id": "a22e10a6",
   "metadata": {},
   "source": [
    "# Choice modelling\n",
    "\n",
    "\n",
    "Today we will look at the example of Choice modelling task.\n",
    "\n",
    "The practice is based on tutorials: https://www.linkedin.com/pulse/marketing-analytics-series-part-1-customer-choice-nguyen-u-s-cma/ and https://www.linkedin.com/pulse/conjoint-analysis-simple-python-implementation-prajwal-sreenivas/ \n",
    "(you need to use VPN in order to access Linkedin site)\n"
   ]
  },
  {
   "cell_type": "markdown",
   "id": "4ed12c92",
   "metadata": {},
   "source": [
    "**The Customer Choice (Logit) model** is an individual-level model helping to understand factors behind each person's purchase decisions. Through quantitative analysis, companies and marketing executives can gain insight on how features such as prices, design, and durability influence the customer's choice of a brand. Customer Choice model is therefore widely used in various marketing areas, including, but not limited to, customer segmentation, product design, pricing or customer churn management.\n",
    "\n",
    "The inputs for Customer Choice Models are usually:\n",
    "\n",
    "+ Customer's choice data for alternative offerings, each containing specific attributes.\n",
    "+ Customer's ratings of different alternatives."
   ]
  },
  {
   "cell_type": "markdown",
   "id": "35e5a0bb",
   "metadata": {},
   "source": [
    "![](choice-ex.png)"
   ]
  },
  {
   "cell_type": "markdown",
   "id": "68d02c65",
   "metadata": {},
   "source": [
    "**Choice modelling task in simple words:**\n",
    "    \n",
    "we observe that the customer makes a choice among several options (for example, if a customer comes into the store and purchases some particular chocolate, he or she chooses thi chocolate from many others). Each of the chocolates has its own characteristics - price, brand, favor etc. And customer has some characteristics as well and we may have information about his/her other choices. \n",
    "\n",
    "So, we have choices of chocolates for a set of customers. Now we can use some model that will help us to understand the relationship between the attributes of products and customers’ choices among sets of products.\n",
    "\n",
    "Again, target variable is choice of some product. There are some finite number of products. If there are only two of them, we can consider this task as a binary classification. If there are more than two products, then we can use algorithms for multi-class classification. We also need interpretable models, so that we can interpret the results after its training and understand the relationships between the features and the target variable (choice).\n",
    "\n",
    "So, it seems that multinomial logit model will be a good choice."
   ]
  },
  {
   "cell_type": "markdown",
   "id": "5b3d32ea",
   "metadata": {},
   "source": [
    "## Data\n",
    "\n",
    "Here is some list of choice data I found: https://github.com/alvarogutyerrez/TheDiscreteChoiceDataBank.\n",
    "        \n",
    "We will use data on **school transportation choice by students in Dresden**. \n",
    "\n",
    "**The link to the data**: https://github.com/svenne0815/DresdenModeChoiceData/blob/master/DDModeChoice.txt.\n",
    "\n",
    "\n",
    "Article where this data is used: https://www.sciencedirect.com/science/article/abs/pii/S0966692320309492?dgcid=coauthor.\n"
   ]
  },
  {
   "cell_type": "code",
   "execution_count": 95,
   "id": "a69676f0",
   "metadata": {},
   "outputs": [],
   "source": [
    "data = pd.read_csv('transport_choice_data.txt', sep='\\t')"
   ]
  },
  {
   "cell_type": "code",
   "execution_count": 79,
   "id": "9ef25d63",
   "metadata": {},
   "outputs": [
    {
     "data": {
      "text/html": [
       "<div>\n",
       "<style scoped>\n",
       "    .dataframe tbody tr th:only-of-type {\n",
       "        vertical-align: middle;\n",
       "    }\n",
       "\n",
       "    .dataframe tbody tr th {\n",
       "        vertical-align: top;\n",
       "    }\n",
       "\n",
       "    .dataframe thead th {\n",
       "        text-align: right;\n",
       "    }\n",
       "</style>\n",
       "<table border=\"1\" class=\"dataframe\">\n",
       "  <thead>\n",
       "    <tr style=\"text-align: right;\">\n",
       "      <th></th>\n",
       "      <th>ID</th>\n",
       "      <th>Choice</th>\n",
       "      <th>Distance</th>\n",
       "      <th>School_location</th>\n",
       "      <th>Grade</th>\n",
       "      <th>Age</th>\n",
       "      <th>Gender</th>\n",
       "      <th>CarAvail</th>\n",
       "      <th>Season</th>\n",
       "      <th>CB_location</th>\n",
       "      <th>Leistung</th>\n",
       "    </tr>\n",
       "  </thead>\n",
       "  <tbody>\n",
       "    <tr>\n",
       "      <th>0</th>\n",
       "      <td>1</td>\n",
       "      <td>2</td>\n",
       "      <td>6.03139</td>\n",
       "      <td>0</td>\n",
       "      <td>9</td>\n",
       "      <td>15</td>\n",
       "      <td>0</td>\n",
       "      <td>0</td>\n",
       "      <td>0</td>\n",
       "      <td>0</td>\n",
       "      <td>152.98</td>\n",
       "    </tr>\n",
       "    <tr>\n",
       "      <th>1</th>\n",
       "      <td>2</td>\n",
       "      <td>2</td>\n",
       "      <td>3.48652</td>\n",
       "      <td>0</td>\n",
       "      <td>9</td>\n",
       "      <td>15</td>\n",
       "      <td>1</td>\n",
       "      <td>0</td>\n",
       "      <td>0</td>\n",
       "      <td>1</td>\n",
       "      <td>64.67</td>\n",
       "    </tr>\n",
       "    <tr>\n",
       "      <th>2</th>\n",
       "      <td>3</td>\n",
       "      <td>4</td>\n",
       "      <td>5.33100</td>\n",
       "      <td>0</td>\n",
       "      <td>9</td>\n",
       "      <td>14</td>\n",
       "      <td>1</td>\n",
       "      <td>1</td>\n",
       "      <td>0</td>\n",
       "      <td>0</td>\n",
       "      <td>147.19</td>\n",
       "    </tr>\n",
       "    <tr>\n",
       "      <th>3</th>\n",
       "      <td>4</td>\n",
       "      <td>3</td>\n",
       "      <td>3.75005</td>\n",
       "      <td>0</td>\n",
       "      <td>9</td>\n",
       "      <td>15</td>\n",
       "      <td>0</td>\n",
       "      <td>0</td>\n",
       "      <td>0</td>\n",
       "      <td>0</td>\n",
       "      <td>1287.90</td>\n",
       "    </tr>\n",
       "    <tr>\n",
       "      <th>4</th>\n",
       "      <td>5</td>\n",
       "      <td>2</td>\n",
       "      <td>2.04100</td>\n",
       "      <td>0</td>\n",
       "      <td>9</td>\n",
       "      <td>15</td>\n",
       "      <td>1</td>\n",
       "      <td>0</td>\n",
       "      <td>0</td>\n",
       "      <td>1</td>\n",
       "      <td>35.36</td>\n",
       "    </tr>\n",
       "  </tbody>\n",
       "</table>\n",
       "</div>"
      ],
      "text/plain": [
       "   ID  Choice  Distance  School_location  Grade  Age  Gender  CarAvail  \\\n",
       "0   1       2   6.03139                0      9   15       0         0   \n",
       "1   2       2   3.48652                0      9   15       1         0   \n",
       "2   3       4   5.33100                0      9   14       1         1   \n",
       "3   4       3   3.75005                0      9   15       0         0   \n",
       "4   5       2   2.04100                0      9   15       1         0   \n",
       "\n",
       "   Season  CB_location  Leistung  \n",
       "0       0            0    152.98  \n",
       "1       0            1     64.67  \n",
       "2       0            0    147.19  \n",
       "3       0            0   1287.90  \n",
       "4       0            1     35.36  "
      ]
     },
     "execution_count": 79,
     "metadata": {},
     "output_type": "execute_result"
    }
   ],
   "source": [
    "data.head()"
   ]
  },
  {
   "cell_type": "markdown",
   "id": "84732e5d",
   "metadata": {},
   "source": [
    "Here is the variables descriptions from the article"
   ]
  },
  {
   "cell_type": "markdown",
   "id": "5cb0872b",
   "metadata": {},
   "source": [
    "![](variables.png)"
   ]
  },
  {
   "cell_type": "code",
   "execution_count": 80,
   "id": "584623a4",
   "metadata": {
    "scrolled": true
   },
   "outputs": [
    {
     "data": {
      "text/plain": [
       "Season  Choice\n",
       "0       1          9.887798\n",
       "        2         13.242169\n",
       "        3         24.625993\n",
       "        4          2.244039\n",
       "1       1         11.827957\n",
       "        2          4.102384\n",
       "        3         30.014025\n",
       "        4          4.055633\n",
       "Name: ID, dtype: float64"
      ]
     },
     "execution_count": 80,
     "metadata": {},
     "output_type": "execute_result"
    }
   ],
   "source": [
    "data.groupby(['Season', \"Choice\"]).count()['ID']/data.shape[0]*100"
   ]
  },
  {
   "cell_type": "markdown",
   "id": "d40bd03d",
   "metadata": {},
   "source": [
    "Let's name categories:\n",
    "\n",
    "+ 1 - Walk\n",
    "+ 2 - Bike\n",
    "+ 3 - Public transport\n",
    "+ 4 - Car\n",
    "\n",
    "(this is only my guess, as you see the proportions of each transport are different from those presented in the article, and there is no any codings for data in the data itself, so let's assume that mt guess is right)"
   ]
  },
  {
   "cell_type": "code",
   "execution_count": 88,
   "id": "b117b19f",
   "metadata": {},
   "outputs": [],
   "source": [
    "# selecting columns we need\n",
    "data = data[['Choice', 'Distance', 'Grade', 'Age', 'Gender', 'CarAvail', 'Season']]"
   ]
  },
  {
   "cell_type": "markdown",
   "id": "ca3d1dc5",
   "metadata": {},
   "source": [
    "Other categorial columns codings:\n",
    "    \n",
    "+ Season (1-Winter, 0-Summer)\n",
    "+ CarAvail (1-available, 0-not available)\n"
   ]
  },
  {
   "cell_type": "code",
   "execution_count": 96,
   "id": "f7dea632",
   "metadata": {},
   "outputs": [],
   "source": [
    "data['CarAvail'] = data['CarAvail'].apply(lambda x: 'available' if x == 1 else 'not available')\n",
    "data['Season'] = data['Season'].apply(lambda x: 'winter' if x == 1 else 'summer')"
   ]
  },
  {
   "cell_type": "markdown",
   "id": "c62b4a44",
   "metadata": {},
   "source": [
    "## Modelling with Multinomial Logit\n",
    "\n",
    "\n",
    "Practice on mnlogit from the previous year: https://drive.google.com/file/d/1NzGHvmWddAFOMMr3u-vrMLzH1qq050-9/view?usp=sharing"
   ]
  },
  {
   "cell_type": "code",
   "execution_count": 97,
   "id": "f9e4d2bc",
   "metadata": {},
   "outputs": [
    {
     "name": "stdout",
     "output_type": "stream",
     "text": [
      "Optimization terminated successfully.\n",
      "         Current function value: 0.532998\n",
      "         Iterations 10\n"
     ]
    },
    {
     "name": "stderr",
     "output_type": "stream",
     "text": [
      "/home/alena-pestova/anaconda3/lib/python3.9/site-packages/statsmodels/base/model.py:127: ValueWarning: unknown kwargs ['distr']\n",
      "  warnings.warn(msg, ValueWarning)\n",
      "/home/alena-pestova/anaconda3/lib/python3.9/site-packages/statsmodels/base/model.py:127: ValueWarning: unknown kwargs ['distr']\n",
      "  warnings.warn(msg, ValueWarning)\n"
     ]
    },
    {
     "data": {
      "text/html": [
       "<table class=\"simpletable\">\n",
       "<caption>MNLogit Regression Results</caption>\n",
       "<tr>\n",
       "  <th>Dep. Variable:</th>        <td>Choice</td>      <th>  No. Observations:  </th>  <td>  8556</td> \n",
       "</tr>\n",
       "<tr>\n",
       "  <th>Model:</th>                <td>MNLogit</td>     <th>  Df Residuals:      </th>  <td>  8535</td> \n",
       "</tr>\n",
       "<tr>\n",
       "  <th>Method:</th>                 <td>MLE</td>       <th>  Df Model:          </th>  <td>    18</td> \n",
       "</tr>\n",
       "<tr>\n",
       "  <th>Date:</th>            <td>Thu, 06 Oct 2022</td> <th>  Pseudo R-squ.:     </th>  <td>0.5324</td> \n",
       "</tr>\n",
       "<tr>\n",
       "  <th>Time:</th>                <td>18:00:27</td>     <th>  Log-Likelihood:    </th> <td> -4560.3</td>\n",
       "</tr>\n",
       "<tr>\n",
       "  <th>converged:</th>             <td>True</td>       <th>  LL-Null:           </th> <td> -9753.0</td>\n",
       "</tr>\n",
       "<tr>\n",
       "  <th>Covariance Type:</th>     <td>nonrobust</td>    <th>  LLR p-value:       </th>  <td> 0.000</td> \n",
       "</tr>\n",
       "</table>\n",
       "<table class=\"simpletable\">\n",
       "<tr>\n",
       "            <th>Choice=2</th>              <th>coef</th>     <th>std err</th>      <th>z</th>      <th>P>|z|</th>  <th>[0.025</th>    <th>0.975]</th>  \n",
       "</tr>\n",
       "<tr>\n",
       "  <th>Intercept</th>                    <td>   -5.1572</td> <td>    0.440</td> <td>  -11.730</td> <td> 0.000</td> <td>   -6.019</td> <td>   -4.295</td>\n",
       "</tr>\n",
       "<tr>\n",
       "  <th>C(Gender)[T.1]</th>               <td>   -0.5906</td> <td>    0.101</td> <td>   -5.871</td> <td> 0.000</td> <td>   -0.788</td> <td>   -0.393</td>\n",
       "</tr>\n",
       "<tr>\n",
       "  <th>C(CarAvail)[T.not available]</th> <td>   -0.3051</td> <td>    0.227</td> <td>   -1.343</td> <td> 0.179</td> <td>   -0.750</td> <td>    0.140</td>\n",
       "</tr>\n",
       "<tr>\n",
       "  <th>C(Season)[T.winter]</th>          <td>   -1.5465</td> <td>    0.105</td> <td>  -14.731</td> <td> 0.000</td> <td>   -1.752</td> <td>   -1.341</td>\n",
       "</tr>\n",
       "<tr>\n",
       "  <th>Age</th>                          <td>    0.1015</td> <td>    0.046</td> <td>    2.226</td> <td> 0.026</td> <td>    0.012</td> <td>    0.191</td>\n",
       "</tr>\n",
       "<tr>\n",
       "  <th>Grade</th>                        <td>    0.0062</td> <td>    0.053</td> <td>    0.117</td> <td> 0.907</td> <td>   -0.098</td> <td>    0.110</td>\n",
       "</tr>\n",
       "<tr>\n",
       "  <th>Distance</th>                     <td>    3.4868</td> <td>    0.116</td> <td>   30.155</td> <td> 0.000</td> <td>    3.260</td> <td>    3.713</td>\n",
       "</tr>\n",
       "<tr>\n",
       "            <th>Choice=3</th>              <th>coef</th>     <th>std err</th>      <th>z</th>      <th>P>|z|</th>  <th>[0.025</th>    <th>0.975]</th>  \n",
       "</tr>\n",
       "<tr>\n",
       "  <th>Intercept</th>                    <td>   -6.0806</td> <td>    0.466</td> <td>  -13.055</td> <td> 0.000</td> <td>   -6.993</td> <td>   -5.168</td>\n",
       "</tr>\n",
       "<tr>\n",
       "  <th>C(Gender)[T.1]</th>               <td>    0.1432</td> <td>    0.104</td> <td>    1.381</td> <td> 0.167</td> <td>   -0.060</td> <td>    0.347</td>\n",
       "</tr>\n",
       "<tr>\n",
       "  <th>C(CarAvail)[T.not available]</th> <td>    0.3955</td> <td>    0.241</td> <td>    1.638</td> <td> 0.101</td> <td>   -0.078</td> <td>    0.869</td>\n",
       "</tr>\n",
       "<tr>\n",
       "  <th>C(Season)[T.winter]</th>          <td>    0.1210</td> <td>    0.106</td> <td>    1.143</td> <td> 0.253</td> <td>   -0.087</td> <td>    0.329</td>\n",
       "</tr>\n",
       "<tr>\n",
       "  <th>Age</th>                          <td>   -0.0050</td> <td>    0.050</td> <td>   -0.099</td> <td> 0.921</td> <td>   -0.103</td> <td>    0.094</td>\n",
       "</tr>\n",
       "<tr>\n",
       "  <th>Grade</th>                        <td>   -0.0765</td> <td>    0.057</td> <td>   -1.332</td> <td> 0.183</td> <td>   -0.189</td> <td>    0.036</td>\n",
       "</tr>\n",
       "<tr>\n",
       "  <th>Distance</th>                     <td>    4.3361</td> <td>    0.118</td> <td>   36.875</td> <td> 0.000</td> <td>    4.106</td> <td>    4.567</td>\n",
       "</tr>\n",
       "<tr>\n",
       "            <th>Choice=4</th>              <th>coef</th>     <th>std err</th>      <th>z</th>      <th>P>|z|</th>  <th>[0.025</th>    <th>0.975]</th>  \n",
       "</tr>\n",
       "<tr>\n",
       "  <th>Intercept</th>                    <td>   -4.6467</td> <td>    0.530</td> <td>   -8.768</td> <td> 0.000</td> <td>   -5.685</td> <td>   -3.608</td>\n",
       "</tr>\n",
       "<tr>\n",
       "  <th>C(Gender)[T.1]</th>               <td>    0.1856</td> <td>    0.164</td> <td>    1.133</td> <td> 0.257</td> <td>   -0.136</td> <td>    0.507</td>\n",
       "</tr>\n",
       "<tr>\n",
       "  <th>C(CarAvail)[T.not available]</th> <td>   -4.9300</td> <td>    0.242</td> <td>  -20.375</td> <td> 0.000</td> <td>   -5.404</td> <td>   -4.456</td>\n",
       "</tr>\n",
       "<tr>\n",
       "  <th>C(Season)[T.winter]</th>          <td>    0.5912</td> <td>    0.169</td> <td>    3.501</td> <td> 0.000</td> <td>    0.260</td> <td>    0.922</td>\n",
       "</tr>\n",
       "<tr>\n",
       "  <th>Age</th>                          <td>    0.0234</td> <td>    0.053</td> <td>    0.438</td> <td> 0.661</td> <td>   -0.081</td> <td>    0.128</td>\n",
       "</tr>\n",
       "<tr>\n",
       "  <th>Grade</th>                        <td>   -0.1271</td> <td>    0.069</td> <td>   -1.847</td> <td> 0.065</td> <td>   -0.262</td> <td>    0.008</td>\n",
       "</tr>\n",
       "<tr>\n",
       "  <th>Distance</th>                     <td>    4.2776</td> <td>    0.120</td> <td>   35.544</td> <td> 0.000</td> <td>    4.042</td> <td>    4.514</td>\n",
       "</tr>\n",
       "</table>"
      ],
      "text/plain": [
       "<class 'statsmodels.iolib.summary.Summary'>\n",
       "\"\"\"\n",
       "                          MNLogit Regression Results                          \n",
       "==============================================================================\n",
       "Dep. Variable:                 Choice   No. Observations:                 8556\n",
       "Model:                        MNLogit   Df Residuals:                     8535\n",
       "Method:                           MLE   Df Model:                           18\n",
       "Date:                Thu, 06 Oct 2022   Pseudo R-squ.:                  0.5324\n",
       "Time:                        18:00:27   Log-Likelihood:                -4560.3\n",
       "converged:                       True   LL-Null:                       -9753.0\n",
       "Covariance Type:            nonrobust   LLR p-value:                     0.000\n",
       "================================================================================================\n",
       "                    Choice=2       coef    std err          z      P>|z|      [0.025      0.975]\n",
       "------------------------------------------------------------------------------------------------\n",
       "Intercept                       -5.1572      0.440    -11.730      0.000      -6.019      -4.295\n",
       "C(Gender)[T.1]                  -0.5906      0.101     -5.871      0.000      -0.788      -0.393\n",
       "C(CarAvail)[T.not available]    -0.3051      0.227     -1.343      0.179      -0.750       0.140\n",
       "C(Season)[T.winter]             -1.5465      0.105    -14.731      0.000      -1.752      -1.341\n",
       "Age                              0.1015      0.046      2.226      0.026       0.012       0.191\n",
       "Grade                            0.0062      0.053      0.117      0.907      -0.098       0.110\n",
       "Distance                         3.4868      0.116     30.155      0.000       3.260       3.713\n",
       "------------------------------------------------------------------------------------------------\n",
       "                    Choice=3       coef    std err          z      P>|z|      [0.025      0.975]\n",
       "------------------------------------------------------------------------------------------------\n",
       "Intercept                       -6.0806      0.466    -13.055      0.000      -6.993      -5.168\n",
       "C(Gender)[T.1]                   0.1432      0.104      1.381      0.167      -0.060       0.347\n",
       "C(CarAvail)[T.not available]     0.3955      0.241      1.638      0.101      -0.078       0.869\n",
       "C(Season)[T.winter]              0.1210      0.106      1.143      0.253      -0.087       0.329\n",
       "Age                             -0.0050      0.050     -0.099      0.921      -0.103       0.094\n",
       "Grade                           -0.0765      0.057     -1.332      0.183      -0.189       0.036\n",
       "Distance                         4.3361      0.118     36.875      0.000       4.106       4.567\n",
       "------------------------------------------------------------------------------------------------\n",
       "                    Choice=4       coef    std err          z      P>|z|      [0.025      0.975]\n",
       "------------------------------------------------------------------------------------------------\n",
       "Intercept                       -4.6467      0.530     -8.768      0.000      -5.685      -3.608\n",
       "C(Gender)[T.1]                   0.1856      0.164      1.133      0.257      -0.136       0.507\n",
       "C(CarAvail)[T.not available]    -4.9300      0.242    -20.375      0.000      -5.404      -4.456\n",
       "C(Season)[T.winter]              0.5912      0.169      3.501      0.000       0.260       0.922\n",
       "Age                              0.0234      0.053      0.438      0.661      -0.081       0.128\n",
       "Grade                           -0.1271      0.069     -1.847      0.065      -0.262       0.008\n",
       "Distance                         4.2776      0.120     35.544      0.000       4.042       4.514\n",
       "================================================================================================\n",
       "\"\"\""
      ]
     },
     "execution_count": 97,
     "metadata": {},
     "output_type": "execute_result"
    }
   ],
   "source": [
    "from statsmodels.formula.api import mnlogit\n",
    "\n",
    "multi_model = mnlogit('Choice ~ C(Gender) + Age + Grade + Distance + C(CarAvail) + C(Season)', \n",
    "                      data=data, distr='logit').fit()\n",
    "multi_model.summary()"
   ]
  },
  {
   "cell_type": "markdown",
   "id": "a6e1c14f",
   "metadata": {},
   "source": [
    "## Interpeting the results"
   ]
  },
  {
   "cell_type": "markdown",
   "id": "9ab5000e",
   "metadata": {},
   "source": [
    "(reminder from the practice on mnlogit)\n",
    "\n",
    "### Extra comments:\n",
    "\n",
    "the very same interpreataion as it was for binary logreg with the only difference that we have\n",
    "- one reference category (here we have immigration_policy=1) \n",
    "- then we have 3 other categories of the dependent variable\n",
    "\n",
    "in the binary logreg we have one reference and another one and we look at the log-odds\n",
    "\n",
    "$$\\log(\\frac{P(Y==1)}{P(Y==0)}) = \\beta_0 + \\beta_1 * x_1 + ... + \\beta_n * x_n$$\n",
    "\n",
    "\n",
    "here we have several similar formulas with the only difference in nominators (and obviously in coefficients)\n",
    "\n",
    "$$\\log(\\frac{P(Y=i)}{P(Y=0)}) = \\beta_{i0} + \\beta_{i1} * x_1 + ... + \\beta_{in} * x_n$$\n",
    "\n",
    "For ex, in our case:\n",
    "\n",
    "$$\\log(\\frac{P(immigration\\_policy==2)}{P(immigration\\_policy==1)}) = 1.2362 + 0.1623 * Sex +  0.0010 * Age$$\n",
    "\n",
    "$$\\log(\\frac{P(immigration\\_policy==3)}{P(immigration\\_policy==1)}) = 2.0210 + -0.0902 * Sex +  0.0070 * Age$$\n"
   ]
  },
  {
   "cell_type": "markdown",
   "id": "2900e874",
   "metadata": {},
   "source": [
    "More reminders: \n",
    "\n",
    "*Interpreting coefficients*\n",
    "\n",
    "+ β (log-odds) refers to whether the mean of y increases or decreases as x increases. So, it shows whether there is a positive or negative relationship between the target variable and the feature.\n",
    "\n",
    "+ odds coefficient A shows you that \"when the feature increases by 1 unit the target variable increases by a factor of A\" (the target variable will be multiplied by A)\n",
    "\n",
    "+ Average marginal effects: for categorical variables with more than two possible values, the marginal effects show you the difference in the predicted probabilities for cases in one category relative to the reference category.\n",
    "\n",
    "With binary independent variables, marginal effects measure discrete change, i.e. how the predicted probabilities change as the binary independent variable changes from 0 to 1.\n",
    "Marginal effects for continuous variables often provide a good approximation to the amount of change in Y that will be produced by a 1-unit change in X.\n",
    "\n",
    "    "
   ]
  },
  {
   "cell_type": "markdown",
   "id": "3f2e7a8a",
   "metadata": {},
   "source": [
    "This is how we can calculate odds (from log-odds)"
   ]
  },
  {
   "cell_type": "code",
   "execution_count": 98,
   "id": "d21a33f0",
   "metadata": {},
   "outputs": [],
   "source": [
    "odds = np.exp(multi_model.params)"
   ]
  },
  {
   "cell_type": "code",
   "execution_count": 99,
   "id": "0779930f",
   "metadata": {},
   "outputs": [],
   "source": [
    "odds.columns = ['Bike', 'Transport', 'Car']"
   ]
  },
  {
   "cell_type": "code",
   "execution_count": 100,
   "id": "27c2f6f2",
   "metadata": {},
   "outputs": [
    {
     "data": {
      "text/html": [
       "<div>\n",
       "<style scoped>\n",
       "    .dataframe tbody tr th:only-of-type {\n",
       "        vertical-align: middle;\n",
       "    }\n",
       "\n",
       "    .dataframe tbody tr th {\n",
       "        vertical-align: top;\n",
       "    }\n",
       "\n",
       "    .dataframe thead th {\n",
       "        text-align: right;\n",
       "    }\n",
       "</style>\n",
       "<table border=\"1\" class=\"dataframe\">\n",
       "  <thead>\n",
       "    <tr style=\"text-align: right;\">\n",
       "      <th></th>\n",
       "      <th>Bike</th>\n",
       "      <th>Transport</th>\n",
       "      <th>Car</th>\n",
       "    </tr>\n",
       "  </thead>\n",
       "  <tbody>\n",
       "    <tr>\n",
       "      <th>Intercept</th>\n",
       "      <td>0.005758</td>\n",
       "      <td>0.002287</td>\n",
       "      <td>0.009593</td>\n",
       "    </tr>\n",
       "    <tr>\n",
       "      <th>C(Gender)[T.1]</th>\n",
       "      <td>0.553970</td>\n",
       "      <td>1.154012</td>\n",
       "      <td>1.203978</td>\n",
       "    </tr>\n",
       "    <tr>\n",
       "      <th>C(CarAvail)[T.not available]</th>\n",
       "      <td>0.737032</td>\n",
       "      <td>1.485089</td>\n",
       "      <td>0.007227</td>\n",
       "    </tr>\n",
       "    <tr>\n",
       "      <th>C(Season)[T.winter]</th>\n",
       "      <td>0.212991</td>\n",
       "      <td>1.128634</td>\n",
       "      <td>1.806225</td>\n",
       "    </tr>\n",
       "    <tr>\n",
       "      <th>Age</th>\n",
       "      <td>1.106786</td>\n",
       "      <td>0.995059</td>\n",
       "      <td>1.023631</td>\n",
       "    </tr>\n",
       "    <tr>\n",
       "      <th>Grade</th>\n",
       "      <td>1.006248</td>\n",
       "      <td>0.926349</td>\n",
       "      <td>0.880616</td>\n",
       "    </tr>\n",
       "    <tr>\n",
       "      <th>Distance</th>\n",
       "      <td>32.682655</td>\n",
       "      <td>76.409644</td>\n",
       "      <td>72.069268</td>\n",
       "    </tr>\n",
       "  </tbody>\n",
       "</table>\n",
       "</div>"
      ],
      "text/plain": [
       "                                   Bike  Transport        Car\n",
       "Intercept                      0.005758   0.002287   0.009593\n",
       "C(Gender)[T.1]                 0.553970   1.154012   1.203978\n",
       "C(CarAvail)[T.not available]   0.737032   1.485089   0.007227\n",
       "C(Season)[T.winter]            0.212991   1.128634   1.806225\n",
       "Age                            1.106786   0.995059   1.023631\n",
       "Grade                          1.006248   0.926349   0.880616\n",
       "Distance                      32.682655  76.409644  72.069268"
      ]
     },
     "execution_count": 100,
     "metadata": {},
     "output_type": "execute_result"
    }
   ],
   "source": [
    "odds"
   ]
  },
  {
   "cell_type": "code",
   "execution_count": 102,
   "id": "9b3c0ebf",
   "metadata": {},
   "outputs": [
    {
     "name": "stdout",
     "output_type": "stream",
     "text": [
      "       MNLogit Marginal Effects      \n",
      "=====================================\n",
      "Dep. Variable:                 Choice\n",
      "Method:                          dydx\n",
      "At:                           overall\n",
      "================================================================================================\n",
      "                    Choice=1      dy/dx    std err          z      P>|z|      [0.025      0.975]\n",
      "------------------------------------------------------------------------------------------------\n",
      "C(Gender)[T.1]                   0.0132      0.005      2.638      0.008       0.003       0.023\n",
      "C(CarAvail)[T.not available]     0.0111      0.011      1.031      0.303      -0.010       0.032\n",
      "C(Season)[T.winter]              0.0401      0.005      8.146      0.000       0.030       0.050\n",
      "Age                             -0.0028      0.002     -1.192      0.233      -0.008       0.002\n",
      "Grade                            0.0018      0.003      0.664      0.507      -0.004       0.007\n",
      "Distance                        -0.2062      0.001   -154.767      0.000      -0.209      -0.204\n",
      "------------------------------------------------------------------------------------------------\n",
      "                    Choice=2      dy/dx    std err          z      P>|z|      [0.025      0.975]\n",
      "------------------------------------------------------------------------------------------------\n",
      "C(Gender)[T.1]                  -0.0752      0.007    -10.738      0.000      -0.089      -0.061\n",
      "C(CarAvail)[T.not available]    -0.0343      0.016     -2.142      0.032      -0.066      -0.003\n",
      "C(Season)[T.winter]             -0.1787      0.007    -26.197      0.000      -0.192      -0.165\n",
      "Age                              0.0112      0.003      3.732      0.000       0.005       0.017\n",
      "Grade                            0.0070      0.004      1.953      0.051   -2.37e-05       0.014\n",
      "Distance                         0.0327      0.001     29.220      0.000       0.030       0.035\n",
      "------------------------------------------------------------------------------------------------\n",
      "                    Choice=3      dy/dx    std err          z      P>|z|      [0.025      0.975]\n",
      "------------------------------------------------------------------------------------------------\n",
      "C(Gender)[T.1]                   0.0564      0.007      7.763      0.000       0.042       0.071\n",
      "C(CarAvail)[T.not available]     0.1544      0.016      9.867      0.000       0.124       0.185\n",
      "C(Season)[T.winter]              0.1170      0.007     16.637      0.000       0.103       0.131\n",
      "Age                             -0.0084      0.003     -2.488      0.013      -0.015      -0.002\n",
      "Grade                           -0.0069      0.004     -1.739      0.082      -0.015       0.001\n",
      "Distance                         0.1603      0.001    163.404      0.000       0.158       0.162\n",
      "------------------------------------------------------------------------------------------------\n",
      "                    Choice=4      dy/dx    std err          z      P>|z|      [0.025      0.975]\n",
      "------------------------------------------------------------------------------------------------\n",
      "C(Gender)[T.1]                   0.0055      0.003      1.586      0.113      -0.001       0.012\n",
      "C(CarAvail)[T.not available]    -0.1312      0.003    -39.068      0.000      -0.138      -0.125\n",
      "C(Season)[T.winter]              0.0216      0.003      6.322      0.000       0.015       0.028\n",
      "Age                              0.0001      0.001      0.137      0.891      -0.002       0.002\n",
      "Grade                           -0.0019      0.001     -1.518      0.129      -0.004       0.001\n",
      "Distance                         0.0132      0.001     23.491      0.000       0.012       0.014\n",
      "================================================================================================\n"
     ]
    }
   ],
   "source": [
    "print(multi_model.get_margeff(at ='overall').summary())"
   ]
  },
  {
   "cell_type": "markdown",
   "id": "79b4a8ae",
   "metadata": {},
   "source": [
    "## Predicting"
   ]
  },
  {
   "cell_type": "code",
   "execution_count": 112,
   "id": "9ff56df8",
   "metadata": {},
   "outputs": [
    {
     "data": {
      "text/plain": [
       "4.80713"
      ]
     },
     "execution_count": 112,
     "metadata": {},
     "output_type": "execute_result"
    }
   ],
   "source": [
    "data['Distance'].quantile(0.75)"
   ]
  },
  {
   "cell_type": "code",
   "execution_count": 119,
   "id": "71cc7d1c",
   "metadata": {},
   "outputs": [
    {
     "data": {
      "text/html": [
       "<div>\n",
       "<style scoped>\n",
       "    .dataframe tbody tr th:only-of-type {\n",
       "        vertical-align: middle;\n",
       "    }\n",
       "\n",
       "    .dataframe tbody tr th {\n",
       "        vertical-align: top;\n",
       "    }\n",
       "\n",
       "    .dataframe thead th {\n",
       "        text-align: right;\n",
       "    }\n",
       "</style>\n",
       "<table border=\"1\" class=\"dataframe\">\n",
       "  <thead>\n",
       "    <tr style=\"text-align: right;\">\n",
       "      <th></th>\n",
       "      <th>Gender</th>\n",
       "      <th>Age</th>\n",
       "      <th>Grade</th>\n",
       "      <th>Distance</th>\n",
       "      <th>CarAvail</th>\n",
       "      <th>Season</th>\n",
       "      <th>P_Walk</th>\n",
       "      <th>P_Bike</th>\n",
       "      <th>P_Transport</th>\n",
       "      <th>P_Car</th>\n",
       "    </tr>\n",
       "  </thead>\n",
       "  <tbody>\n",
       "    <tr>\n",
       "      <th>0</th>\n",
       "      <td>1</td>\n",
       "      <td>14.7108</td>\n",
       "      <td>8.7288</td>\n",
       "      <td>0.0368</td>\n",
       "      <td>not available</td>\n",
       "      <td>summer</td>\n",
       "      <td>0.9854</td>\n",
       "      <td>0.0124</td>\n",
       "      <td>0.0022</td>\n",
       "      <td>0.0000</td>\n",
       "    </tr>\n",
       "    <tr>\n",
       "      <th>1</th>\n",
       "      <td>1</td>\n",
       "      <td>14.7108</td>\n",
       "      <td>8.7288</td>\n",
       "      <td>1.3420</td>\n",
       "      <td>not available</td>\n",
       "      <td>summer</td>\n",
       "      <td>0.3533</td>\n",
       "      <td>0.4202</td>\n",
       "      <td>0.2223</td>\n",
       "      <td>0.0043</td>\n",
       "    </tr>\n",
       "    <tr>\n",
       "      <th>2</th>\n",
       "      <td>1</td>\n",
       "      <td>14.7108</td>\n",
       "      <td>8.7288</td>\n",
       "      <td>2.7480</td>\n",
       "      <td>not available</td>\n",
       "      <td>summer</td>\n",
       "      <td>0.0022</td>\n",
       "      <td>0.3593</td>\n",
       "      <td>0.6273</td>\n",
       "      <td>0.0111</td>\n",
       "    </tr>\n",
       "    <tr>\n",
       "      <th>3</th>\n",
       "      <td>1</td>\n",
       "      <td>14.7108</td>\n",
       "      <td>8.7288</td>\n",
       "      <td>4.8071</td>\n",
       "      <td>not available</td>\n",
       "      <td>summer</td>\n",
       "      <td>0.0000</td>\n",
       "      <td>0.0894</td>\n",
       "      <td>0.8966</td>\n",
       "      <td>0.0141</td>\n",
       "    </tr>\n",
       "    <tr>\n",
       "      <th>4</th>\n",
       "      <td>1</td>\n",
       "      <td>14.7108</td>\n",
       "      <td>8.7288</td>\n",
       "      <td>17.8006</td>\n",
       "      <td>not available</td>\n",
       "      <td>summer</td>\n",
       "      <td>0.0000</td>\n",
       "      <td>0.0000</td>\n",
       "      <td>0.9927</td>\n",
       "      <td>0.0073</td>\n",
       "    </tr>\n",
       "  </tbody>\n",
       "</table>\n",
       "</div>"
      ],
      "text/plain": [
       "   Gender     Age  Grade  Distance       CarAvail  Season  P_Walk  P_Bike  \\\n",
       "0       1 14.7108 8.7288    0.0368  not available  summer  0.9854  0.0124   \n",
       "1       1 14.7108 8.7288    1.3420  not available  summer  0.3533  0.4202   \n",
       "2       1 14.7108 8.7288    2.7480  not available  summer  0.0022  0.3593   \n",
       "3       1 14.7108 8.7288    4.8071  not available  summer  0.0000  0.0894   \n",
       "4       1 14.7108 8.7288   17.8006  not available  summer  0.0000  0.0000   \n",
       "\n",
       "   P_Transport  P_Car  \n",
       "0       0.0022 0.0000  \n",
       "1       0.2223 0.0043  \n",
       "2       0.6273 0.0111  \n",
       "3       0.8966 0.0141  \n",
       "4       0.9927 0.0073  "
      ]
     },
     "execution_count": 119,
     "metadata": {},
     "output_type": "execute_result"
    }
   ],
   "source": [
    "# Predictions for the average and extreme values of predictors \n",
    "# tables (change one variable, remain the others constant)\n",
    "# out variables C(Gender) + Age + Grade + Distance + C(CarAvail) + C(Season)\n",
    "\n",
    "pd.options.display.float_format = '{:.4f}'.format\n",
    "\n",
    "pred_table = pd.DataFrame(columns=[\"Gender\", \"Age\", \"Grade\", \"Distance\", \"CarAvail\", \"Season\"])\n",
    "pred_table['Distance'] = data['Distance'].min(), data['Distance'].quantile(0.25), data['Distance'].quantile(0.5), data['Distance'].quantile(0.75), data['Distance'].max()\n",
    "pred_table['Gender'] = data['Gender'].mode()[0]\n",
    "pred_table['Age'] = data['Age'].mean()\n",
    "pred_table['Grade'] = data['Grade'].mean()\n",
    "pred_table['CarAvail'] = data['CarAvail'].mode()[0]\n",
    "pred_table['Season'] = data['Season'].mode()[0]\n",
    "\n",
    "predictions = multi_model.predict(pred_table)\n",
    "predictions.columns = ['P_Walk', 'P_Bike', 'P_Transport', 'P_Car']\n",
    "\n",
    "pred_table = pd.concat([pred_table, predictions], axis=1)\n",
    "pred_table"
   ]
  },
  {
   "cell_type": "markdown",
   "id": "9d98c09b",
   "metadata": {},
   "source": [
    "## Market share"
   ]
  },
  {
   "cell_type": "markdown",
   "id": "ce9795bc",
   "metadata": {},
   "source": [
    "In a customer choice analysis, we may want to analyze how the choice changes with some variable change. It can be some customer characteritics or product attribute.\n"
   ]
  },
  {
   "cell_type": "markdown",
   "id": "06a3cfde",
   "metadata": {},
   "source": [
    "We can also look at the predicted market share of each transport choice.\n",
    "\n",
    "NOTE: this is a little bit stupid example, because we predict the choices on the same data that we used for training. Actually, we have real labels here and we now real shares of each transport. In real research, we may want to calculate probabilites and shares for some new data that we did not use for training."
   ]
  },
  {
   "cell_type": "code",
   "execution_count": 121,
   "id": "1a36476d",
   "metadata": {},
   "outputs": [
    {
     "data": {
      "text/html": [
       "<div>\n",
       "<style scoped>\n",
       "    .dataframe tbody tr th:only-of-type {\n",
       "        vertical-align: middle;\n",
       "    }\n",
       "\n",
       "    .dataframe tbody tr th {\n",
       "        vertical-align: top;\n",
       "    }\n",
       "\n",
       "    .dataframe thead th {\n",
       "        text-align: right;\n",
       "    }\n",
       "</style>\n",
       "<table border=\"1\" class=\"dataframe\">\n",
       "  <thead>\n",
       "    <tr style=\"text-align: right;\">\n",
       "      <th></th>\n",
       "      <th>0</th>\n",
       "      <th>1</th>\n",
       "      <th>2</th>\n",
       "      <th>3</th>\n",
       "    </tr>\n",
       "  </thead>\n",
       "  <tbody>\n",
       "    <tr>\n",
       "      <th>0</th>\n",
       "      <td>0.0000</td>\n",
       "      <td>0.0709</td>\n",
       "      <td>0.9163</td>\n",
       "      <td>0.0127</td>\n",
       "    </tr>\n",
       "    <tr>\n",
       "      <th>1</th>\n",
       "      <td>0.0001</td>\n",
       "      <td>0.2408</td>\n",
       "      <td>0.7465</td>\n",
       "      <td>0.0126</td>\n",
       "    </tr>\n",
       "    <tr>\n",
       "      <th>2</th>\n",
       "      <td>0.0000</td>\n",
       "      <td>0.0295</td>\n",
       "      <td>0.2414</td>\n",
       "      <td>0.7291</td>\n",
       "    </tr>\n",
       "    <tr>\n",
       "      <th>3</th>\n",
       "      <td>0.0000</td>\n",
       "      <td>0.3459</td>\n",
       "      <td>0.6438</td>\n",
       "      <td>0.0102</td>\n",
       "    </tr>\n",
       "    <tr>\n",
       "      <th>4</th>\n",
       "      <td>0.0357</td>\n",
       "      <td>0.5010</td>\n",
       "      <td>0.4550</td>\n",
       "      <td>0.0083</td>\n",
       "    </tr>\n",
       "    <tr>\n",
       "      <th>...</th>\n",
       "      <td>...</td>\n",
       "      <td>...</td>\n",
       "      <td>...</td>\n",
       "      <td>...</td>\n",
       "    </tr>\n",
       "    <tr>\n",
       "      <th>8551</th>\n",
       "      <td>0.0000</td>\n",
       "      <td>0.0013</td>\n",
       "      <td>0.9801</td>\n",
       "      <td>0.0186</td>\n",
       "    </tr>\n",
       "    <tr>\n",
       "      <th>8552</th>\n",
       "      <td>0.0008</td>\n",
       "      <td>0.1405</td>\n",
       "      <td>0.8365</td>\n",
       "      <td>0.0222</td>\n",
       "    </tr>\n",
       "    <tr>\n",
       "      <th>8553</th>\n",
       "      <td>0.0000</td>\n",
       "      <td>0.0047</td>\n",
       "      <td>0.1968</td>\n",
       "      <td>0.7985</td>\n",
       "    </tr>\n",
       "    <tr>\n",
       "      <th>8554</th>\n",
       "      <td>0.0017</td>\n",
       "      <td>0.0984</td>\n",
       "      <td>0.8754</td>\n",
       "      <td>0.0244</td>\n",
       "    </tr>\n",
       "    <tr>\n",
       "      <th>8555</th>\n",
       "      <td>0.0000</td>\n",
       "      <td>0.0037</td>\n",
       "      <td>0.9743</td>\n",
       "      <td>0.0220</td>\n",
       "    </tr>\n",
       "  </tbody>\n",
       "</table>\n",
       "<p>8556 rows × 4 columns</p>\n",
       "</div>"
      ],
      "text/plain": [
       "          0      1      2      3\n",
       "0    0.0000 0.0709 0.9163 0.0127\n",
       "1    0.0001 0.2408 0.7465 0.0126\n",
       "2    0.0000 0.0295 0.2414 0.7291\n",
       "3    0.0000 0.3459 0.6438 0.0102\n",
       "4    0.0357 0.5010 0.4550 0.0083\n",
       "...     ...    ...    ...    ...\n",
       "8551 0.0000 0.0013 0.9801 0.0186\n",
       "8552 0.0008 0.1405 0.8365 0.0222\n",
       "8553 0.0000 0.0047 0.1968 0.7985\n",
       "8554 0.0017 0.0984 0.8754 0.0244\n",
       "8555 0.0000 0.0037 0.9743 0.0220\n",
       "\n",
       "[8556 rows x 4 columns]"
      ]
     },
     "execution_count": 121,
     "metadata": {},
     "output_type": "execute_result"
    }
   ],
   "source": [
    "multi_model.predict(data)"
   ]
  },
  {
   "cell_type": "code",
   "execution_count": 133,
   "id": "0cbc54a6",
   "metadata": {},
   "outputs": [],
   "source": [
    "# predictions of the class\n",
    "predicted_classes = multi_model.predict(data).apply(lambda x: np.argmax(x), axis=1)"
   ]
  },
  {
   "cell_type": "code",
   "execution_count": 134,
   "id": "02f25f4d",
   "metadata": {},
   "outputs": [
    {
     "data": {
      "text/plain": [
       "0       2\n",
       "1       2\n",
       "2       3\n",
       "3       2\n",
       "4       1\n",
       "       ..\n",
       "8551    2\n",
       "8552    2\n",
       "8553    3\n",
       "8554    2\n",
       "8555    2\n",
       "Length: 8556, dtype: int64"
      ]
     },
     "execution_count": 134,
     "metadata": {},
     "output_type": "execute_result"
    }
   ],
   "source": [
    "predicted_classes"
   ]
  },
  {
   "cell_type": "code",
   "execution_count": 137,
   "id": "4919630d",
   "metadata": {},
   "outputs": [],
   "source": [
    "shares = np.unique(predicted_classes, return_counts=True)[1]"
   ]
  },
  {
   "cell_type": "code",
   "execution_count": 140,
   "id": "d35556e0",
   "metadata": {},
   "outputs": [
    {
     "data": {
      "text/plain": [
       "array([0.23772791, 0.11816269, 0.57678822, 0.06732118])"
      ]
     },
     "execution_count": 140,
     "metadata": {},
     "output_type": "execute_result"
    }
   ],
   "source": [
    "# market shares of each transport\n",
    "shares / np.sum(shares)"
   ]
  },
  {
   "cell_type": "markdown",
   "id": "52ff2ef9",
   "metadata": {},
   "source": [
    "What is more, it may be interested how these market shares change when we change some characteritics of the people and/or product."
   ]
  },
  {
   "cell_type": "markdown",
   "id": "0626380a",
   "metadata": {},
   "source": [
    "# Conjoint Analysis"
   ]
  },
  {
   "cell_type": "markdown",
   "id": "95d046ee",
   "metadata": {},
   "source": [
    "**What is Conjoint Analysis?**\n",
    "\n",
    "Conjoint Analysis, short for \"consider jointly\" is a marketing insight technique that provides consumers with combinations, pairs or groups of products that are a combination of various features and ask them what they prefer. The product is described by a number of attributes and each attribute has several levels.\n",
    "\n",
    "One of the greatest strengths of Conjoint Analysis is its ability to develop market simulation models that can predict consumer behavior to changes in the product. Conjoint Analysis can be applied to a variety of difficult aspects of the Market research such as product development, competitive positioning, pricing pricing, product line analysis, segmentation and resource allocation.\n",
    "\n",
    "The difference from choice model  - we have not only the choice of a customer, but also his/her rankings of the products. They come from the experimantal design - the customer chooses from a set of options, and this options usually represent some similar products with some varying characteristics.\n",
    "\n",
    "The tutorial on conjoint analysis: https://ariepratama.github.io/How-to-do-conjoint-analysis-in-python/."
   ]
  },
  {
   "cell_type": "markdown",
   "id": "c5fe8ca5",
   "metadata": {},
   "source": [
    "## Task for you\n",
    "\n",
    "\n",
    "1. Show how the probabilities of choosing each option of school transportation change when we vary other predictors. Choose 2 predictors, vary each of them with remaining other variables constant, calculate predictions and plot the probabilities. Make conclusions on the relationship between predictors and target variable.\n",
    "\n",
    "NOTE: this is the same thing that was in Predicting part of this practice. So, you need to choose one predictor, make a table where you vary the values of this predictor (assign constant values to other variables). Then predict probabilites, for each row and plot how they change with different values of chosen predictor. Then choose some other predictor and do the same thing. So, you should analyse the relationship between chosen predictors and target variable separately.\n",
    "\n",
    "The example of plot we draw in the previous year. Here we vary the age variable and plot the probabilites of some 4 groups for some age.\n",
    "![](plot1.png)"
   ]
  }
 ],
 "metadata": {
  "kernelspec": {
   "display_name": "Python 3 (ipykernel)",
   "language": "python",
   "name": "python3"
  },
  "language_info": {
   "codemirror_mode": {
    "name": "ipython",
    "version": 3
   },
   "file_extension": ".py",
   "mimetype": "text/x-python",
   "name": "python",
   "nbconvert_exporter": "python",
   "pygments_lexer": "ipython3",
   "version": "3.9.12"
  }
 },
 "nbformat": 4,
 "nbformat_minor": 5
}
