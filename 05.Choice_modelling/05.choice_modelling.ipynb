{
 "cells": [
  {
   "cell_type": "markdown",
   "id": "a22e10a6",
   "metadata": {},
   "source": [
    "# Choice modelling\n",
    "\n",
    "\n",
    "Today we will look at the example of Choice modelling task.\n",
    "\n",
    "The practice is based on tutorials: https://www.linkedin.com/pulse/marketing-analytics-series-part-1-customer-choice-nguyen-u-s-cma/ and https://www.linkedin.com/pulse/conjoint-analysis-simple-python-implementation-prajwal-sreenivas/ \n",
    "(you need to use VPN in order to access Linkedin site)\n"
   ]
  },
  {
   "cell_type": "markdown",
   "id": "4ed12c92",
   "metadata": {},
   "source": [
    "**The Customer Choice (Logit) model** is an individual-level model helping to understand factors behind each person's purchase decisions. Through quantitative analysis, companies and marketing executives can gain insight on how features such as prices, design, and durability influence the customer's choice of a brand. Customer Choice model is therefore widely used in various marketing areas, including, but not limited to, customer segmentation, product design, pricing or customer churn management.\n",
    "\n",
    "The inputs for Customer Choice Models are usually:\n",
    "\n",
    "+ Customer's choice data for alternative offerings, each containing specific attributes.\n",
    "+ Customer's ratings of different alternatives."
   ]
  },
  {
   "cell_type": "markdown",
   "id": "35e5a0bb",
   "metadata": {},
   "source": [
    "![](choice-ex.png)"
   ]
  },
  {
   "cell_type": "markdown",
   "id": "68d02c65",
   "metadata": {},
   "source": [
    "**Choice modelling task in simple words:**\n",
    "    \n",
    "we observe that the customer makes a choice among several options (for example, if a customer comes into the store and purchases some particular chocolate, he or she chooses thi chocolate from many others). Each of the chocolates has its own characteristics - price, brand, favor etc. And customer has some characteristics as well and we may have information about his/her other choices. \n",
    "\n",
    "So, we have choices of chocolates for a set of customers. Now we can use some model that will help us to understand the relationship between the attributes of products and customers’ choices among sets of products.\n",
    "\n",
    "Again, target variable is choice of some product. There are some finite number of products. If there are only two of them, we can consider this task as a binary classification. If there are more than two products, then we can use algorithms for multi-class classification. We also need interpretable models, so that we can interpret the results after its training and understand the relationships between the features and the target variable (choice).\n",
    "\n",
    "So, it seems that multinomial logit model will be a good choice."
   ]
  },
  {
   "cell_type": "markdown",
   "id": "5b3d32ea",
   "metadata": {},
   "source": [
    "## Data\n",
    "\n",
    "Here is some list of choice data I found: https://github.com/alvarogutyerrez/TheDiscreteChoiceDataBank.\n",
    "        \n",
    "We will use data on **school transportation choice by students in Dresden**. \n",
    "\n",
    "**The link to the data**: https://github.com/svenne0815/DresdenModeChoiceData/blob/master/DDModeChoice.txt.\n",
    "\n",
    "\n",
    "Article where this data is used: https://www.sciencedirect.com/science/article/abs/pii/S0966692320309492?dgcid=coauthor.\n"
   ]
  },
  {
   "cell_type": "code",
   "execution_count": null,
   "id": "a69676f0",
   "metadata": {},
   "outputs": [],
   "source": [
    "data = pd.read_csv('transport_choice_data.txt', sep='\\t')"
   ]
  },
  {
   "cell_type": "code",
   "execution_count": null,
   "id": "9ef25d63",
   "metadata": {},
   "outputs": [],
   "source": [
    "data.head()"
   ]
  },
  {
   "cell_type": "markdown",
   "id": "84732e5d",
   "metadata": {},
   "source": [
    "Here is the variables descriptions from the article"
   ]
  },
  {
   "cell_type": "markdown",
   "id": "5cb0872b",
   "metadata": {},
   "source": [
    "![](variables.png)"
   ]
  },
  {
   "cell_type": "code",
   "execution_count": null,
   "id": "584623a4",
   "metadata": {
    "scrolled": true
   },
   "outputs": [],
   "source": [
    "data.groupby(['Season', \"Choice\"]).count()['ID']/data.shape[0]*100"
   ]
  },
  {
   "cell_type": "markdown",
   "id": "d40bd03d",
   "metadata": {},
   "source": [
    "Let's name categories:\n",
    "\n",
    "+ 1 - Walk\n",
    "+ 2 - Bike\n",
    "+ 3 - Public transport\n",
    "+ 4 - Car\n",
    "\n",
    "(this is only my guess, as you see the proportions of each transport are different from those presented in the article, and there is no any codings for data in the data itself, so let's assume that mt guess is right)"
   ]
  },
  {
   "cell_type": "code",
   "execution_count": null,
   "id": "b117b19f",
   "metadata": {},
   "outputs": [],
   "source": [
    "# selecting columns we need\n",
    "data = data[['Choice', 'Distance', 'Grade', 'Age', 'Gender', 'CarAvail', 'Season']]"
   ]
  },
  {
   "cell_type": "markdown",
   "id": "ca3d1dc5",
   "metadata": {},
   "source": [
    "Other categorial columns codings:\n",
    "    \n",
    "+ Season (1-Winter, 0-Summer)\n",
    "+ CarAvail (1-available, 0-not available)\n"
   ]
  },
  {
   "cell_type": "code",
   "execution_count": null,
   "id": "f7dea632",
   "metadata": {},
   "outputs": [],
   "source": [
    "data['CarAvail'] = data['CarAvail'].apply(lambda x: 'available' if x == 1 else 'not available')\n",
    "data['Season'] = data['Season'].apply(lambda x: 'winter' if x == 1 else 'summer')"
   ]
  },
  {
   "cell_type": "markdown",
   "id": "c62b4a44",
   "metadata": {},
   "source": [
    "## Modelling with Multinomial Logit\n",
    "\n",
    "\n",
    "Practice on mnlogit from the previous year: https://drive.google.com/file/d/1NzGHvmWddAFOMMr3u-vrMLzH1qq050-9/view?usp=sharing"
   ]
  },
  {
   "cell_type": "code",
   "execution_count": null,
   "id": "f9e4d2bc",
   "metadata": {},
   "outputs": [],
   "source": [
    "from statsmodels.formula.api import mnlogit\n",
    "\n",
    "multi_model = mnlogit('Choice ~ C(Gender) + Age + Grade + Distance + C(CarAvail) + C(Season)', \n",
    "                      data=data, distr='logit').fit()\n",
    "multi_model.summary()"
   ]
  },
  {
   "cell_type": "markdown",
   "id": "a6e1c14f",
   "metadata": {},
   "source": [
    "## Interpeting the results"
   ]
  },
  {
   "cell_type": "markdown",
   "id": "9ab5000e",
   "metadata": {},
   "source": [
    "(reminder from the practice on mnlogit)\n",
    "\n",
    "### Extra comments:\n",
    "\n",
    "the very same interpreataion as it was for binary logreg with the only difference that we have\n",
    "- one reference category (here we have immigration_policy=1) \n",
    "- then we have 3 other categories of the dependent variable\n",
    "\n",
    "in the binary logreg we have one reference and another one and we look at the log-odds\n",
    "\n",
    "$$\\log(\\frac{P(Y==1)}{P(Y==0)}) = \\beta_0 + \\beta_1 * x_1 + ... + \\beta_n * x_n$$\n",
    "\n",
    "\n",
    "here we have several similar formulas with the only difference in nominators (and obviously in coefficients)\n",
    "\n",
    "$$\\log(\\frac{P(Y=i)}{P(Y=0)}) = \\beta_{i0} + \\beta_{i1} * x_1 + ... + \\beta_{in} * x_n$$\n",
    "\n",
    "For ex, in our case:\n",
    "\n",
    "$$\\log(\\frac{P(immigration\\_policy==2)}{P(immigration\\_policy==1)}) = 1.2362 + 0.1623 * Sex +  0.0010 * Age$$\n",
    "\n",
    "$$\\log(\\frac{P(immigration\\_policy==3)}{P(immigration\\_policy==1)}) = 2.0210 + -0.0902 * Sex +  0.0070 * Age$$\n"
   ]
  },
  {
   "cell_type": "markdown",
   "id": "2900e874",
   "metadata": {},
   "source": [
    "More reminders: \n",
    "\n",
    "*Interpreting coefficients*\n",
    "\n",
    "+ β (log-odds) refers to whether the mean of y increases or decreases as x increases. So, it shows whether there is a positive or negative relationship between the target variable and the feature.\n",
    "\n",
    "+ odds coefficient A shows you that \"when the feature increases by 1 unit the target variable increases by a factor of A\" (the target variable will be multiplied by A)\n",
    "\n",
    "+ Average marginal effects: for categorical variables with more than two possible values, the marginal effects show you the difference in the predicted probabilities for cases in one category relative to the reference category.\n",
    "\n",
    "With binary independent variables, marginal effects measure discrete change, i.e. how the predicted probabilities change as the binary independent variable changes from 0 to 1.\n",
    "Marginal effects for continuous variables often provide a good approximation to the amount of change in Y that will be produced by a 1-unit change in X.\n",
    "\n",
    "    "
   ]
  },
  {
   "cell_type": "markdown",
   "id": "3f2e7a8a",
   "metadata": {},
   "source": [
    "This is how we can calculate odds (from log-odds)"
   ]
  },
  {
   "cell_type": "code",
   "execution_count": null,
   "id": "d21a33f0",
   "metadata": {},
   "outputs": [],
   "source": [
    "odds = np.exp(multi_model.params)"
   ]
  },
  {
   "cell_type": "code",
   "execution_count": null,
   "id": "0779930f",
   "metadata": {},
   "outputs": [],
   "source": [
    "odds.columns = ['Bike', 'Transport', 'Car']"
   ]
  },
  {
   "cell_type": "code",
   "execution_count": null,
   "id": "27c2f6f2",
   "metadata": {},
   "outputs": [],
   "source": [
    "odds"
   ]
  },
  {
   "cell_type": "code",
   "execution_count": null,
   "id": "9b3c0ebf",
   "metadata": {},
   "outputs": [],
   "source": [
    "print(multi_model.get_margeff(at ='overall').summary())"
   ]
  },
  {
   "cell_type": "markdown",
   "id": "79b4a8ae",
   "metadata": {},
   "source": [
    "## Predicting"
   ]
  },
  {
   "cell_type": "code",
   "execution_count": null,
   "id": "9ff56df8",
   "metadata": {},
   "outputs": [],
   "source": [
    "data['Distance'].quantile(0.75)"
   ]
  },
  {
   "cell_type": "code",
   "execution_count": null,
   "id": "71cc7d1c",
   "metadata": {},
   "outputs": [],
   "source": [
    "# Predictions for the average and extreme values of predictors \n",
    "# tables (change one variable, remain the others constant)\n",
    "# out variables C(Gender) + Age + Grade + Distance + C(CarAvail) + C(Season)\n",
    "\n",
    "pd.options.display.float_format = '{:.4f}'.format\n",
    "\n",
    "pred_table = pd.DataFrame(columns=[\"Gender\", \"Age\", \"Grade\", \"Distance\", \"CarAvail\", \"Season\"])\n",
    "pred_table['Distance'] = data['Distance'].min(), data['Distance'].quantile(0.25), data['Distance'].quantile(0.5), data['Distance'].quantile(0.75), data['Distance'].max()\n",
    "pred_table['Gender'] = data['Gender'].mode()[0]\n",
    "pred_table['Age'] = data['Age'].mean()\n",
    "pred_table['Grade'] = data['Grade'].mean()\n",
    "pred_table['CarAvail'] = data['CarAvail'].mode()[0]\n",
    "pred_table['Season'] = data['Season'].mode()[0]\n",
    "\n",
    "predictions = multi_model.predict(pred_table)\n",
    "predictions.columns = ['P_Walk', 'P_Bike', 'P_Transport', 'P_Car']\n",
    "\n",
    "pred_table = pd.concat([pred_table, predictions], axis=1)\n",
    "pred_table"
   ]
  },
  {
   "cell_type": "markdown",
   "id": "9d98c09b",
   "metadata": {},
   "source": [
    "## Market share"
   ]
  },
  {
   "cell_type": "markdown",
   "id": "ce9795bc",
   "metadata": {},
   "source": [
    "In a customer choice analysis, we may want to analyze how the choice changes with some variable change. It can be some customer characteritics or product attribute.\n"
   ]
  },
  {
   "cell_type": "markdown",
   "id": "06a3cfde",
   "metadata": {},
   "source": [
    "We can also look at the predicted market share of each transport choice.\n",
    "\n",
    "NOTE: this is a little bit stupid example, because we predict the choices on the same data that we used for training. Actually, we have real labels here and we now real shares of each transport. In real research, we may want to calculate probabilites and shares for some new data that we did not use for training."
   ]
  },
  {
   "cell_type": "code",
   "execution_count": null,
   "id": "1a36476d",
   "metadata": {},
   "outputs": [],
   "source": [
    "multi_model.predict(data)"
   ]
  },
  {
   "cell_type": "code",
   "execution_count": null,
   "id": "0cbc54a6",
   "metadata": {},
   "outputs": [],
   "source": [
    "# predictions of the class\n",
    "predicted_classes = multi_model.predict(data).apply(lambda x: np.argmax(x), axis=1)"
   ]
  },
  {
   "cell_type": "code",
   "execution_count": null,
   "id": "02f25f4d",
   "metadata": {},
   "outputs": [],
   "source": [
    "predicted_classes"
   ]
  },
  {
   "cell_type": "code",
   "execution_count": null,
   "id": "4919630d",
   "metadata": {},
   "outputs": [],
   "source": [
    "shares = np.unique(predicted_classes, return_counts=True)[1]"
   ]
  },
  {
   "cell_type": "code",
   "execution_count": null,
   "id": "d35556e0",
   "metadata": {},
   "outputs": [],
   "source": [
    "# market shares of each transport\n",
    "shares / np.sum(shares)"
   ]
  },
  {
   "cell_type": "markdown",
   "id": "52ff2ef9",
   "metadata": {},
   "source": [
    "What is more, it may be interested how these market shares change when we change some characteritics of the people and/or product."
   ]
  },
  {
   "cell_type": "markdown",
   "id": "0626380a",
   "metadata": {},
   "source": [
    "# Conjoint Analysis"
   ]
  },
  {
   "cell_type": "markdown",
   "id": "95d046ee",
   "metadata": {},
   "source": [
    "**What is Conjoint Analysis?**\n",
    "\n",
    "Conjoint Analysis, short for \"consider jointly\" is a marketing insight technique that provides consumers with combinations, pairs or groups of products that are a combination of various features and ask them what they prefer. The product is described by a number of attributes and each attribute has several levels.\n",
    "\n",
    "One of the greatest strengths of Conjoint Analysis is its ability to develop market simulation models that can predict consumer behavior to changes in the product. Conjoint Analysis can be applied to a variety of difficult aspects of the Market research such as product development, competitive positioning, pricing pricing, product line analysis, segmentation and resource allocation.\n",
    "\n",
    "The difference from choice model  - we have not only the choice of a customer, but also his/her rankings of the products. They come from the experimantal design - the customer chooses from a set of options, and this options usually represent some similar products with some varying characteristics.\n",
    "\n",
    "The tutorial on conjoint analysis: https://ariepratama.github.io/How-to-do-conjoint-analysis-in-python/."
   ]
  },
  {
   "cell_type": "markdown",
   "id": "c5fe8ca5",
   "metadata": {},
   "source": [
    "## Task for you\n",
    "\n",
    "\n",
    "1. Show how the probabilities of choosing each option of school transportation change when we vary other predictors. Choose 2 predictors, vary each of them with remaining other variables constant, calculate predictions and plot the probabilities. Make conclusions on the relationship between predictors and target variable.\n",
    "\n",
    "NOTE: this is the same thing that was in Predicting part of this practice. So, you need to choose one predictor, make a table where you vary the values of this predictor (assign constant values to other variables). Then predict probabilites, for each row and plot how they change with different values of chosen predictor. Then choose some other predictor and do the same thing. So, you should analyse the relationship between chosen predictors and target variable separately.\n",
    "\n",
    "The example of plot we draw in the previous year. Here we vary the age variable and plot the probabilites of some 4 groups for some age.\n",
    "![](plot1.png)"
   ]
  }
 ],
 "metadata": {
  "kernelspec": {
   "display_name": "Python 3 (ipykernel)",
   "language": "python",
   "name": "python3"
  },
  "language_info": {
   "codemirror_mode": {
    "name": "ipython",
    "version": 3
   },
   "file_extension": ".py",
   "mimetype": "text/x-python",
   "name": "python",
   "nbconvert_exporter": "python",
   "pygments_lexer": "ipython3",
   "version": "3.9.12"
  }
 },
 "nbformat": 4,
 "nbformat_minor": 5
}
