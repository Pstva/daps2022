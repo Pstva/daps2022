{
 "cells": [
  {
   "cell_type": "markdown",
   "id": "8c7d6c6c",
   "metadata": {},
   "source": [
    "# 2. Causal inference: Simulating potential outcomes\n",
    "\n",
    "This lab is based on the task 18.12 from Gelman book (page 358)."
   ]
  },
  {
   "cell_type": "markdown",
   "id": "2cb1207a",
   "metadata": {},
   "source": [
    "**Exercise**:\n",
    "\n",
    "In this exercise, we will simulate an intervention study with a\n",
    "pre-determined average treatment effect. The goal is for you to understand the potential outcome\n",
    "framework, and the properties of completely randomized experiments through simulation.\n",
    "\n",
    "The setting for our hypothetical study is a class in which students take two quizzes. After quiz\n",
    "1 but before quiz 2, the instructor randomly assigns half the class to attend an extra tutoring\n",
    "session. The other half of the class does not receive any additional help. \n",
    "\n",
    "Consider the half of the class that receives tutoring as the treated group. The goal is to estimate the effect of the extra tutoring session on average test scores for the retake of quiz 1. Assume that the stable unit\n",
    "treatment value assumption is satisfied."
   ]
  },
  {
   "cell_type": "markdown",
   "id": "bf8c76f7",
   "metadata": {},
   "source": [
    "## (a) \n",
    "\n",
    "Simulating all observed and potentially observed data (omniscient mode). For this section,\n",
    "you are omniscient and thus know the potential outcomes for everyone. Simulate a dataset\n",
    "consistent with the following assumptions.\n",
    "\n",
    "+ The average treatment effect on all the students equals 5.\n",
    "+ The population size, N, is 1000.\n",
    "+ Scores on quiz 1 approximately follow a normal distribution with mean of 65 and standard deviation of 3.\n",
    "+ The potential outcomes for quiz 2 should be linearly related to the pre-treatment quiz score. In particular they should take the form, \n",
    "\n",
    "$$y^0 = \\beta_0 + \\beta_1 x + 0 + \\epsilon_0$$\n",
    "\n",
    "$$y^1 = \\beta_0 + \\beta_1 x + \\tau + \\epsilon_0$$\n",
    "\n",
    "where the intercept $\\beta_0 = 10$ and the slope $\\beta_1 = 1.1$. Draw the errors $\\epsilon_0$ and $\\epsilon_1$\n",
    "independently from normal distributions with mean 0 and standard deviations 1.\n",
    "\n"
   ]
  },
  {
   "cell_type": "code",
   "execution_count": null,
   "id": "a752ae35",
   "metadata": {},
   "outputs": [],
   "source": []
  },
  {
   "cell_type": "code",
   "execution_count": null,
   "id": "3fcd581f",
   "metadata": {},
   "outputs": [],
   "source": []
  },
  {
   "cell_type": "markdown",
   "id": "6198eb41",
   "metadata": {},
   "source": [
    "## (b)\n",
    "\n",
    "Calculating and interpreting average treatment effects (omniscient mode). Answer the\n",
    "following questions based on the data-generating process or using your simulated data.\n",
    "\n",
    "+ What is your interpretation of $\\tau$?\n",
    "+ Calculate the sample average treatment effect (SATE) for your simulated dataset.\n",
    "+ Why is SATE different from $\\tau$?\n",
    "+ How would you interpret the intercept in the data-generating process for $y_0$ and $y_1$? \n",
    "+ How would you interpret $\\beta_1$?\n",
    "+ Plot the response surface versus x. What does this plot reveal?"
   ]
  },
  {
   "cell_type": "code",
   "execution_count": null,
   "id": "c54a109e",
   "metadata": {},
   "outputs": [],
   "source": []
  },
  {
   "cell_type": "code",
   "execution_count": null,
   "id": "80f26cbc",
   "metadata": {},
   "outputs": [],
   "source": []
  },
  {
   "cell_type": "markdown",
   "id": "96f46a36",
   "metadata": {},
   "source": [
    "## (c)\n",
    "\n",
    "Random assignment (researcher mode). For the remaining parts of this exercise, you are\n",
    "a mere researcher! Return your goggle of omniscience and use only the observed data\n",
    "available to the researcher; that is, you do not have access to the counterfactual outcomes for\n",
    "each student.\n",
    "\n",
    "Using the same simulated dataset generated above, randomly assign students to treatment\n",
    "and control groups. Then, create the observed dataset, which will include pre-treatment\n",
    "scores, treatment assignment, and observed $y$."
   ]
  },
  {
   "cell_type": "code",
   "execution_count": null,
   "id": "465bd7de",
   "metadata": {},
   "outputs": [],
   "source": []
  },
  {
   "cell_type": "code",
   "execution_count": null,
   "id": "d64390fa",
   "metadata": {},
   "outputs": [],
   "source": []
  },
  {
   "cell_type": "markdown",
   "id": "792ae435",
   "metadata": {},
   "source": [
    "## (d)\n",
    "\n",
    "Difference in means (researcher mode).\n",
    "+ Estimate SATE using a difference in means.\n",
    "+ Is this estimate close to the true SATE? Divide the difference between SATE and estimated SATE by the standard deviation of the observed outcome $y$.\n",
    "+ Why the estimate of SATE is different from SATE and $\\tau$?"
   ]
  },
  {
   "cell_type": "code",
   "execution_count": null,
   "id": "0ef1a2f0",
   "metadata": {},
   "outputs": [],
   "source": []
  },
  {
   "cell_type": "code",
   "execution_count": null,
   "id": "d8a50389",
   "metadata": {},
   "outputs": [],
   "source": []
  },
  {
   "cell_type": "markdown",
   "id": "768a17ce",
   "metadata": {},
   "source": [
    "## (e)\n",
    "\n",
    "Researcher view: linear regression.\n",
    "+ Now you will use linear regression to estimate SATE for the observed data created as\n",
    "above. \n",
    "+ What is gained by estimating the average treatment effect using linear regression instead\n",
    "of the mean difference estimate from above?\n",
    "+ What assumptions do we need to make in order to believe this estimate? Given how you\n",
    "generated the data, do you believe these assumptions have been satisfied?\n",
    "+ estimate SATE with linear regression adding covariate as an independent variable"
   ]
  },
  {
   "cell_type": "code",
   "execution_count": null,
   "id": "eed461d1",
   "metadata": {},
   "outputs": [],
   "source": []
  },
  {
   "cell_type": "code",
   "execution_count": null,
   "id": "e6dc4ffc",
   "metadata": {},
   "outputs": [],
   "source": []
  },
  {
   "cell_type": "markdown",
   "id": "05c048e2",
   "metadata": {},
   "source": [
    "## *(f)\n",
    "\n",
    "adding missings."
   ]
  }
 ],
 "metadata": {
  "kernelspec": {
   "display_name": "Python 3 (ipykernel)",
   "language": "python",
   "name": "python3"
  },
  "language_info": {
   "codemirror_mode": {
    "name": "ipython",
    "version": 3
   },
   "file_extension": ".py",
   "mimetype": "text/x-python",
   "name": "python",
   "nbconvert_exporter": "python",
   "pygments_lexer": "ipython3",
   "version": "3.9.13"
  }
 },
 "nbformat": 4,
 "nbformat_minor": 5
}
