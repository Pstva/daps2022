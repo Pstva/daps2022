{
 "cells": [
  {
   "cell_type": "markdown",
   "id": "9ca47a59",
   "metadata": {},
   "source": [
    "# Missings\n",
    "## Plan\n",
    "\n",
    "1. Make the dataset with NAs.\n",
    "2. Check hypothesis on the data with NAs and without them.\n",
    "3. Imputation methods.\n",
    "\n",
    "**Data**: sample of the data that we used on the Practice 2 - TIMSS data for 8 graders in United Arab Emirates."
   ]
  },
  {
   "cell_type": "code",
   "execution_count": null,
   "id": "91ea50ea",
   "metadata": {},
   "outputs": [],
   "source": [
    "import pandas as pd\n",
    "\n",
    "data = pd.read_csv('timss_uae_sample.csv')"
   ]
  },
  {
   "cell_type": "code",
   "execution_count": null,
   "id": "f7c19ff4",
   "metadata": {},
   "outputs": [],
   "source": [
    "data['education'].value_counts()"
   ]
  },
  {
   "cell_type": "code",
   "execution_count": null,
   "id": "e0a64004",
   "metadata": {},
   "outputs": [],
   "source": [
    "data['education'] = data['education'].replace({'University or Higher': 3, \"Don't Know\": 4, \n",
    "                                               \"Secondary or lower\": 0, \"Post-Secondary\": 1})"
   ]
  },
  {
   "cell_type": "code",
   "execution_count": null,
   "id": "7eb05d3e",
   "metadata": {},
   "outputs": [],
   "source": [
    "data.head()"
   ]
  },
  {
   "cell_type": "markdown",
   "id": "f57b23e7",
   "metadata": {},
   "source": [
    "## Adding NAs"
   ]
  },
  {
   "cell_type": "code",
   "execution_count": null,
   "id": "599425d3",
   "metadata": {},
   "outputs": [],
   "source": [
    "import numpy as np\n",
    "\n",
    "na_5_index = np.random.choice(data.index, int(len(data) * 0.05), replace=False)\n",
    "na_20_index = np.random.choice(data.index, int(len(data) * 0.2), replace=False)\n",
    "na_40_index = np.random.choice(data.index, int(len(data) * 0.4), replace=False)"
   ]
  },
  {
   "cell_type": "code",
   "execution_count": null,
   "id": "8fc8b744",
   "metadata": {
    "scrolled": false
   },
   "outputs": [],
   "source": [
    "data_5_na = data.copy()\n",
    "data_20_na = data.copy()\n",
    "data_40_na = data.copy()\n",
    "\n",
    "data_5_na.loc[na_5_index, 'interest'] = np.nan\n",
    "data_20_na.loc[na_20_index, 'interest'] = np.nan\n",
    "data_40_na.loc[na_40_index, 'interest'] = np.nan"
   ]
  },
  {
   "cell_type": "code",
   "execution_count": null,
   "id": "8717a0a4",
   "metadata": {},
   "outputs": [],
   "source": [
    "data_20_na[data_20_na['interest'].isna()]"
   ]
  },
  {
   "cell_type": "code",
   "execution_count": null,
   "id": "d75a3daf",
   "metadata": {},
   "outputs": [],
   "source": [
    "1389 / len(data)"
   ]
  },
  {
   "cell_type": "markdown",
   "id": "be44277e",
   "metadata": {},
   "source": [
    "## Testing Hypotheses\n",
    "\n",
    "Regression: target variable - math_score, independent variables - all other columns.\n",
    "\n",
    "1. Full data\n",
    "2. Data with NAs - just dropping observations with NA"
   ]
  },
  {
   "cell_type": "markdown",
   "id": "194b3fea",
   "metadata": {},
   "source": [
    "full data"
   ]
  },
  {
   "cell_type": "code",
   "execution_count": null,
   "id": "87b76aa3",
   "metadata": {},
   "outputs": [],
   "source": [
    "import statsmodels.formula.api as smf\n",
    "\n",
    "m_full = smf.ols(formula=\"math_score ~ C(sex) + interest + teaching + success + importance + C(education, Treatment(0))\", \n",
    "                 data=data).fit()\n",
    "m_full.summary()"
   ]
  },
  {
   "cell_type": "markdown",
   "id": "60f4af4b",
   "metadata": {},
   "source": [
    "**Note**: smf.ols function drops NAs by itself"
   ]
  },
  {
   "cell_type": "markdown",
   "id": "df94d937",
   "metadata": {},
   "source": [
    "data with 5% NAs in the column *interest*"
   ]
  },
  {
   "cell_type": "code",
   "execution_count": null,
   "id": "90c9f4c2",
   "metadata": {},
   "outputs": [],
   "source": [
    "m_5 = smf.ols(formula=\"math_score ~ C(sex) + interest + teaching + success + importance + C(education, Treatment(0))\", \n",
    "                 data=data_5_na).fit()\n",
    "m_5.summary()"
   ]
  },
  {
   "cell_type": "markdown",
   "id": "54e3e899",
   "metadata": {},
   "source": [
    "data with 20% NAs in the column *interest*"
   ]
  },
  {
   "cell_type": "code",
   "execution_count": null,
   "id": "7c1334a9",
   "metadata": {},
   "outputs": [],
   "source": [
    "m_20 = smf.ols(formula=\"math_score ~ C(sex) + interest + teaching + success + importance + C(education, Treatment(0))\", \n",
    "                 data=data_20_na).fit()\n",
    "m_20.summary()"
   ]
  },
  {
   "cell_type": "markdown",
   "id": "a6ae9c67",
   "metadata": {},
   "source": [
    "data with 40% NAs in the column *interest*"
   ]
  },
  {
   "cell_type": "code",
   "execution_count": null,
   "id": "fb835539",
   "metadata": {},
   "outputs": [],
   "source": [
    "m_40 = smf.ols(formula=\"math_score ~ C(sex) + interest + teaching + success + importance + C(education, Treatment(0))\", \n",
    "                 data=data_40_na).fit()\n",
    "m_40.summary()"
   ]
  },
  {
   "cell_type": "markdown",
   "id": "e06e81f9",
   "metadata": {},
   "source": [
    "just dropping observations with NA"
   ]
  },
  {
   "cell_type": "code",
   "execution_count": null,
   "id": "6c49141c",
   "metadata": {},
   "outputs": [],
   "source": [
    "# dropping observations that have NA in the column 'interest'\n",
    "data_5_na.dropna(subset='interest')"
   ]
  },
  {
   "cell_type": "markdown",
   "id": "d7cda732",
   "metadata": {},
   "source": [
    "## Imputation methods\n",
    "\n",
    "1. Some constant value:\n",
    "+ distrinct from other values\n",
    "+ mean, median, mode value for the column\n",
    "\n",
    "2. Some randomly selected value from this column (or not randomly - for ex, previous or next value)\n",
    "\n",
    "3. A value estimated by another predictive model."
   ]
  },
  {
   "cell_type": "markdown",
   "id": "48f23d6c",
   "metadata": {},
   "source": [
    "### Simple methods"
   ]
  },
  {
   "cell_type": "code",
   "execution_count": null,
   "id": "1444aa16",
   "metadata": {},
   "outputs": [],
   "source": [
    "data_5_na.fillna(0)"
   ]
  },
  {
   "cell_type": "code",
   "execution_count": null,
   "id": "9900eaf4",
   "metadata": {},
   "outputs": [],
   "source": [
    "data_5_na.fillna(data['interest'].mean())"
   ]
  },
  {
   "cell_type": "markdown",
   "id": "4569f629",
   "metadata": {},
   "source": [
    "### Model imputation"
   ]
  },
  {
   "cell_type": "code",
   "execution_count": null,
   "id": "2690e42c",
   "metadata": {},
   "outputs": [],
   "source": [
    "from sklearn.impute import KNNImputer\n",
    "\n",
    "imputer = KNNImputer(n_neighbors=2, weights=\"uniform\")\n",
    "data_knn_imputed = imputer.fit_transform(data_40_na[['sex', 'education', 'interest', 'teaching', 'success', 'importance']])\n"
   ]
  },
  {
   "cell_type": "code",
   "execution_count": null,
   "id": "bb3c14eb",
   "metadata": {},
   "outputs": [],
   "source": [
    "data_knn_imputed[data_knn_imputed == np.nan]"
   ]
  },
  {
   "cell_type": "markdown",
   "id": "2c67dd42",
   "metadata": {},
   "source": [
    "**MICE method for imputation in multiple columns**\n",
    "\n",
    "Good explanation: https://stats.stackexchange.com/questions/421545/multiple-imputation-by-chained-equations-mice-explained#:~:text=MICE%20is%20a%20multiple%20imputation,are%20missing%20completely%20at%20random).\n",
    "\n",
    "In Python: function IterativeImputer in library fancyimpute\n",
    "\n",
    "\n",
    "There are other algorithms in the library."
   ]
  },
  {
   "cell_type": "code",
   "execution_count": null,
   "id": "1508e10b",
   "metadata": {},
   "outputs": [],
   "source": [
    "from fancyimpute import IterativeImputer\n",
    "mice_imputer = IterativeImputer(verbose=False)\n",
    "data_imputed = mice_imputer.fit_transform(data)"
   ]
  },
  {
   "cell_type": "markdown",
   "id": "77670416",
   "metadata": {},
   "source": [
    "you can use some other algorithm, for example, just a linear regression.\n",
    "\n",
    "(from the library sklearn or statsmodels)"
   ]
  },
  {
   "cell_type": "markdown",
   "id": "14ab7241",
   "metadata": {},
   "source": [
    "## Testing hypotheses on imputed data\n",
    "\n",
    "Let's use two methods: using the mean value and some model imputation algorithm, let it be KNN."
   ]
  },
  {
   "cell_type": "markdown",
   "id": "2291403a",
   "metadata": {},
   "source": [
    "### Imputation with mean value"
   ]
  },
  {
   "cell_type": "code",
   "execution_count": null,
   "id": "020e4c8d",
   "metadata": {},
   "outputs": [],
   "source": [
    "data_5_mean_imputed = data_5_na.fillna(data_5_na.mean())\n",
    "data_20_mean_imputed = data_20_na.fillna(data_20_na.mean())\n",
    "data_40_mean_imputed = data_40_na.fillna(data_40_na.mean())"
   ]
  },
  {
   "cell_type": "code",
   "execution_count": null,
   "id": "8ff7410b",
   "metadata": {},
   "outputs": [],
   "source": [
    "m_5 = smf.ols(formula=\"math_score ~ C(sex) + interest + teaching + success + importance + C(education, Treatment(0))\", \n",
    "                 data=data_5_mean_imputed).fit()\n",
    "m_5.summary()"
   ]
  },
  {
   "cell_type": "code",
   "execution_count": null,
   "id": "fdb570c0",
   "metadata": {},
   "outputs": [],
   "source": [
    "m_20 = smf.ols(formula=\"math_score ~ C(sex) + interest + teaching + success + importance + C(education, Treatment(0))\", \n",
    "                 data=data_20_mean_imputed).fit()\n",
    "m_20.summary()"
   ]
  },
  {
   "cell_type": "code",
   "execution_count": null,
   "id": "3810b29d",
   "metadata": {},
   "outputs": [],
   "source": [
    "m_40 = smf.ols(formula=\"math_score ~ C(sex) + interest + teaching + success + importance + C(education, Treatment(0))\", \n",
    "                 data=data_40_mean_imputed).fit()\n",
    "m_40.summary()"
   ]
  },
  {
   "cell_type": "markdown",
   "id": "67cc4be5",
   "metadata": {},
   "source": [
    "### Imputation with kNN \n"
   ]
  },
  {
   "cell_type": "code",
   "execution_count": null,
   "id": "2549cc7a",
   "metadata": {},
   "outputs": [],
   "source": [
    "def knn_impute(data, n_neighbors=2):\n",
    "    imputer = KNNImputer(n_neighbors=n_neighbors, weights=\"uniform\")\n",
    "    return imputer.fit_transform(data)\n",
    "\n",
    "data_5_knn_imputed = data_5_na.copy()\n",
    "data_20_knn_imputed = data_20_na.copy()\n",
    "data_40_knn_imputed = data_40_na.copy()\n",
    "\n",
    "data_5_knn_imputed[['sex', 'education', 'interest', 'teaching', 'success', 'importance']] = knn_impute(data_5_na[['sex', 'education', 'interest', 'teaching', 'success', 'importance']])\n",
    "data_20_knn_imputed[['sex', 'education', 'interest', 'teaching', 'success', 'importance']] = knn_impute(data_20_na[['sex', 'education', 'interest', 'teaching', 'success', 'importance']])\n",
    "data_40_knn_imputed[['sex', 'education', 'interest', 'teaching', 'success', 'importance']] = knn_impute(data_40_na[['sex', 'education', 'interest', 'teaching', 'success', 'importance']])"
   ]
  },
  {
   "cell_type": "code",
   "execution_count": null,
   "id": "87055127",
   "metadata": {},
   "outputs": [],
   "source": []
  },
  {
   "cell_type": "code",
   "execution_count": null,
   "id": "7880e2e4",
   "metadata": {},
   "outputs": [],
   "source": [
    "m_5 = smf.ols(formula=\"math_score ~ C(sex) + interest + teaching + success + importance + C(education, Treatment(0))\", \n",
    "                 data=data_5_knn_imputed).fit()\n",
    "m_5.summary()"
   ]
  },
  {
   "cell_type": "code",
   "execution_count": null,
   "id": "014ca8a1",
   "metadata": {},
   "outputs": [],
   "source": [
    "m_20 = smf.ols(formula=\"math_score ~ C(sex) + interest + teaching + success + importance + C(education, Treatment(0))\", \n",
    "                 data=data_20_knn_imputed).fit()\n",
    "m_20.summary()"
   ]
  },
  {
   "cell_type": "code",
   "execution_count": null,
   "id": "b5b3289e",
   "metadata": {},
   "outputs": [],
   "source": [
    "m_40 = smf.ols(formula=\"math_score ~ C(sex) + interest + teaching + success + importance + C(education, Treatment(0))\", \n",
    "                 data=data_40_knn_imputed).fit()\n",
    "m_40.summary()"
   ]
  },
  {
   "cell_type": "markdown",
   "id": "181c5e69",
   "metadata": {},
   "source": [
    "## Task for you\n",
    "**Deadline**: 27.09.2022 12:00, send me on e-mail aspestova@hse.ru in **html** format.\n",
    "\n",
    "### Part 1.\n",
    "\n",
    "1. Use 2 algorithms (not used on the practice) of model imputation for imputing the data.\n",
    "2. Run same regressions (as on the practice) but on the imputed data.\n",
    "3. Compare the results with those that were obtained during the practice."
   ]
  }
 ],
 "metadata": {
  "kernelspec": {
   "display_name": "Python 3 (ipykernel)",
   "language": "python",
   "name": "python3"
  },
  "language_info": {
   "codemirror_mode": {
    "name": "ipython",
    "version": 3
   },
   "file_extension": ".py",
   "mimetype": "text/x-python",
   "name": "python",
   "nbconvert_exporter": "python",
   "pygments_lexer": "ipython3",
   "version": "3.9.12"
  }
 },
 "nbformat": 4,
 "nbformat_minor": 5
}
